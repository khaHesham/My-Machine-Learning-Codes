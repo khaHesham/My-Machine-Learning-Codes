{
  "cells": [
    {
      "cell_type": "markdown",
      "metadata": {
        "id": "B15jmLPX1zsT"
      },
      "source": [
        "**Importing the libraries**\n",
        "\n",
        "---\n",
        "\n"
      ]
    },
    {
      "cell_type": "code",
      "execution_count": 1,
      "metadata": {
        "id": "7Jro4ac41-cO"
      },
      "outputs": [],
      "source": [
        "import numpy as np\n",
        "import matplotlib.pyplot as plt\n",
        "import pandas as pd"
      ]
    },
    {
      "cell_type": "markdown",
      "metadata": {
        "id": "KBMzIgdP2B-6"
      },
      "source": [
        "### **Importing the dataset:**\n",
        "\n",
        "---\n",
        "\n"
      ]
    },
    {
      "cell_type": "code",
      "execution_count": 2,
      "metadata": {
        "id": "RRbJYnZP2K1p"
      },
      "outputs": [],
      "source": [
        "dataset = pd.read_csv('[write here your dataset name].csv')    #assuming the dependent variable is the last column. :o\n",
        "X = dataset.iloc[:, :-1].values\n",
        "y = dataset.iloc[:, -1].values"
      ]
    },
    {
      "cell_type": "markdown",
      "metadata": {
        "id": "96mybtcb2VK8"
      },
      "source": [
        "### **Splitting the dataset into the Training set and Test set**\n",
        "\n",
        "---\n",
        "\n"
      ]
    },
    {
      "cell_type": "code",
      "execution_count": 3,
      "metadata": {
        "id": "eb3D9kr72gD6"
      },
      "outputs": [],
      "source": [
        "from sklearn.model_selection import train_test_split\n",
        "X_train, X_test, y_train, y_test = train_test_split(X, y, test_size = 0.2, random_state = 0)  # 80% train  20% test"
      ]
    },
    {
      "cell_type": "markdown",
      "metadata": {
        "id": "HAMx75U42mYc"
      },
      "source": [
        "# **Multiple Linear Regression**"
      ]
    },
    {
      "cell_type": "markdown",
      "metadata": {
        "id": "UDu7w2Ye207P"
      },
      "source": [
        "### Training the Multiple Linear Regression model on the Training set"
      ]
    },
    {
      "cell_type": "code",
      "execution_count": 4,
      "metadata": {
        "colab": {
          "base_uri": "https://localhost:8080/"
        },
        "id": "jwvRarWq2wCB",
        "outputId": "c9690001-712a-45b6-8dd3-fe1c30544e5f"
      },
      "outputs": [
        {
          "data": {
            "text/plain": [
              "LinearRegression()"
            ]
          },
          "execution_count": 4,
          "metadata": {},
          "output_type": "execute_result"
        }
      ],
      "source": [
        "from sklearn.linear_model import LinearRegression\n",
        "regressor = LinearRegression()\n",
        "regressor.fit(X_train, y_train)"
      ]
    },
    {
      "cell_type": "markdown",
      "metadata": {
        "id": "ACZWaVaH3Ng5"
      },
      "source": [
        "###predecting test result\n"
      ]
    },
    {
      "cell_type": "code",
      "execution_count": 5,
      "metadata": {
        "colab": {
          "base_uri": "https://localhost:8080/"
        },
        "id": "JxKH2-yr3RzG",
        "outputId": "5708e3cd-d78c-4366-ebce-9c04c6209184"
      },
      "outputs": [
        {
          "name": "stdout",
          "output_type": "stream",
          "text": [
            "[[431.43 431.23]\n",
            " [458.56 460.01]\n",
            " [462.75 461.14]\n",
            " ...\n",
            " [469.52 473.26]\n",
            " [442.42 438.  ]\n",
            " [461.88 463.28]]\n"
          ]
        }
      ],
      "source": [
        "y_pred = regressor.predict(X_test)\n",
        "np.set_printoptions(precision=2)\n",
        "print(np.concatenate((y_pred.reshape(len(y_pred),1), y_test.reshape(len(y_test),1)),1))"
      ]
    },
    {
      "cell_type": "markdown",
      "metadata": {
        "id": "Dm4EvrIe3XTI"
      },
      "source": [
        "## Evaluating the Model Performance"
      ]
    },
    {
      "cell_type": "code",
      "execution_count": 6,
      "metadata": {
        "colab": {
          "base_uri": "https://localhost:8080/"
        },
        "id": "CrronoWg3ZGI",
        "outputId": "8dbe8217-745b-4491-f62b-952a43010519"
      },
      "outputs": [
        {
          "data": {
            "text/plain": [
              "0.9325315554761302"
            ]
          },
          "execution_count": 6,
          "metadata": {},
          "output_type": "execute_result"
        }
      ],
      "source": [
        "from sklearn.metrics import r2_score\n",
        "r2_score(y_test, y_pred)"
      ]
    },
    {
      "cell_type": "markdown",
      "metadata": {
        "id": "-ocw4g-V3dYN"
      },
      "source": [
        "# ------------------------------------------------------------------------------"
      ]
    },
    {
      "cell_type": "markdown",
      "metadata": {
        "id": "o4LPyUR53g9X"
      },
      "source": [
        "# **Polynomial Regression**"
      ]
    },
    {
      "cell_type": "markdown",
      "metadata": {
        "id": "bW66L2Kk3qai"
      },
      "source": [
        "### Training the Polynomial Regression model on the Training set"
      ]
    },
    {
      "cell_type": "code",
      "execution_count": 7,
      "metadata": {
        "colab": {
          "base_uri": "https://localhost:8080/"
        },
        "id": "u3XIqOgF3ltP",
        "outputId": "360a91ab-1d2b-4dec-afea-e04f57a2f634"
      },
      "outputs": [
        {
          "data": {
            "text/plain": [
              "LinearRegression()"
            ]
          },
          "execution_count": 7,
          "metadata": {},
          "output_type": "execute_result"
        }
      ],
      "source": [
        "from sklearn.preprocessing import PolynomialFeatures\n",
        "from sklearn.linear_model import LinearRegression\n",
        "poly_reg = PolynomialFeatures(degree = 4)   # y= b0 + b1X^1 + b2X^2 + b3X^3 +b4 X^4 + ......    (can increase the degree and try if the model is better)\n",
        "X_poly = poly_reg.fit_transform(X_train)    #alot of scaling here :(    (dont forget the numerical analysis methods as we used to make matrics mul... same here)\n",
        "regressor = LinearRegression()\n",
        "regressor.fit(X_poly, y_train)"
      ]
    },
    {
      "cell_type": "markdown",
      "metadata": {
        "id": "hQQKe8QI4Y48"
      },
      "source": [
        "### Predicting the Test set results"
      ]
    },
    {
      "cell_type": "code",
      "execution_count": 8,
      "metadata": {
        "colab": {
          "base_uri": "https://localhost:8080/"
        },
        "id": "e2TyF9Hm4aOv",
        "outputId": "3ce356ef-a157-438d-cd89-3864b450eac1"
      },
      "outputs": [
        {
          "name": "stdout",
          "output_type": "stream",
          "text": [
            "[[433.94 431.23]\n",
            " [457.9  460.01]\n",
            " [460.52 461.14]\n",
            " ...\n",
            " [469.53 473.26]\n",
            " [438.27 438.  ]\n",
            " [461.66 463.28]]\n"
          ]
        }
      ],
      "source": [
        "y_pred = regressor.predict(poly_reg.transform(X_test))\n",
        "np.set_printoptions(precision=2)\n",
        "print(np.concatenate((y_pred.reshape(len(y_pred),1), y_test.reshape(len(y_test),1)),1))"
      ]
    },
    {
      "cell_type": "markdown",
      "metadata": {
        "id": "1w9Eqz9r4q1_"
      },
      "source": [
        "## Evaluating the model preformance"
      ]
    },
    {
      "cell_type": "code",
      "execution_count": 9,
      "metadata": {
        "colab": {
          "base_uri": "https://localhost:8080/"
        },
        "id": "vwOcEjQv40os",
        "outputId": "0c826124-2187-4df1-f0a3-4b970659da59"
      },
      "outputs": [
        {
          "data": {
            "text/plain": [
              "0.9458192606428238"
            ]
          },
          "execution_count": 9,
          "metadata": {},
          "output_type": "execute_result"
        }
      ],
      "source": [
        "from sklearn.metrics import r2_score\n",
        "r2_score(y_test, y_pred)"
      ]
    },
    {
      "cell_type": "markdown",
      "metadata": {
        "id": "p3egG6SM412W"
      },
      "source": [
        "# -------------------------------------------------------------------------"
      ]
    },
    {
      "cell_type": "markdown",
      "metadata": {
        "id": "7jaqRz9e45uA"
      },
      "source": [
        "# Decision Tree **Regression**"
      ]
    },
    {
      "cell_type": "markdown",
      "metadata": {
        "id": "XGXZIxev5DMW"
      },
      "source": [
        "### Training the Decision Tree Regression model on the Training set"
      ]
    },
    {
      "cell_type": "code",
      "execution_count": 10,
      "metadata": {
        "colab": {
          "base_uri": "https://localhost:8080/"
        },
        "id": "rVLIZLhI5IYq",
        "outputId": "7adb6dec-dbd1-4a24-86f6-257d08ef3d26"
      },
      "outputs": [
        {
          "data": {
            "text/plain": [
              "DecisionTreeRegressor(random_state=0)"
            ]
          },
          "execution_count": 10,
          "metadata": {},
          "output_type": "execute_result"
        }
      ],
      "source": [
        "from sklearn.tree import DecisionTreeRegressor\n",
        "regressor = DecisionTreeRegressor(random_state = 0)\n",
        "regressor.fit(X_train, y_train)"
      ]
    },
    {
      "cell_type": "markdown",
      "metadata": {
        "id": "rrQcZGOg5MwB"
      },
      "source": [
        "### Predicting the Test set results"
      ]
    },
    {
      "cell_type": "code",
      "execution_count": 11,
      "metadata": {
        "colab": {
          "base_uri": "https://localhost:8080/"
        },
        "id": "UnOHaByI5SHB",
        "outputId": "63202cea-ff89-41d0-947c-d08706bca15b"
      },
      "outputs": [
        {
          "name": "stdout",
          "output_type": "stream",
          "text": [
            "[[431.28 431.23]\n",
            " [459.59 460.01]\n",
            " [460.06 461.14]\n",
            " ...\n",
            " [471.46 473.26]\n",
            " [437.76 438.  ]\n",
            " [462.74 463.28]]\n"
          ]
        }
      ],
      "source": [
        "y_pred = regressor.predict(X_test)\n",
        "np.set_printoptions(precision=2)\n",
        "print(np.concatenate((y_pred.reshape(len(y_pred),1), y_test.reshape(len(y_test),1)),1))"
      ]
    },
    {
      "cell_type": "markdown",
      "metadata": {
        "id": "qNBNEPGx5WFM"
      },
      "source": [
        "## Evaluating the Model Performance"
      ]
    },
    {
      "cell_type": "code",
      "execution_count": 12,
      "metadata": {
        "colab": {
          "base_uri": "https://localhost:8080/"
        },
        "id": "cWcKv0B55Z3d",
        "outputId": "b3c829c7-3df7-4319-cf95-60f76a073383"
      },
      "outputs": [
        {
          "data": {
            "text/plain": [
              "0.922905874177941"
            ]
          },
          "execution_count": 12,
          "metadata": {},
          "output_type": "execute_result"
        }
      ],
      "source": [
        "from sklearn.metrics import r2_score\n",
        "r2_score(y_test, y_pred)"
      ]
    },
    {
      "cell_type": "markdown",
      "metadata": {
        "id": "xQjtGMUd5etE"
      },
      "source": [
        "# -------------------------------------------------------------------"
      ]
    },
    {
      "cell_type": "markdown",
      "metadata": {
        "id": "FqqqXjQb5rGk"
      },
      "source": [
        "# Random Forest **Regression**"
      ]
    },
    {
      "cell_type": "markdown",
      "metadata": {
        "id": "tpiDngpg5hHQ"
      },
      "source": [
        "### Training the Random Forest Regression model on the whole dataset"
      ]
    },
    {
      "cell_type": "code",
      "execution_count": 13,
      "metadata": {
        "colab": {
          "base_uri": "https://localhost:8080/"
        },
        "id": "IXGtwPbM5qbz",
        "outputId": "15531ce3-9910-4da6-a543-02f181152e03"
      },
      "outputs": [
        {
          "data": {
            "text/plain": [
              "RandomForestRegressor(n_estimators=10, random_state=0)"
            ]
          },
          "execution_count": 13,
          "metadata": {},
          "output_type": "execute_result"
        }
      ],
      "source": [
        "from sklearn.ensemble import RandomForestRegressor\n",
        "regressor = RandomForestRegressor(n_estimators = 10, random_state = 0)   # n_estimators -> is the number of decision trees  (the idea is taking average of them all)\n",
        "regressor.fit(X_train, y_train)"
      ]
    },
    {
      "cell_type": "markdown",
      "metadata": {
        "id": "HIkNK-QM6Fdx"
      },
      "source": [
        "### Predicting the Test set results"
      ]
    },
    {
      "cell_type": "code",
      "execution_count": 14,
      "metadata": {
        "colab": {
          "base_uri": "https://localhost:8080/"
        },
        "id": "1sSpHSXN6Is2",
        "outputId": "3ef7ae1d-7bbf-4517-a421-8a708d1e8340"
      },
      "outputs": [
        {
          "name": "stdout",
          "output_type": "stream",
          "text": [
            "[[434.05 431.23]\n",
            " [458.79 460.01]\n",
            " [463.02 461.14]\n",
            " ...\n",
            " [469.48 473.26]\n",
            " [439.57 438.  ]\n",
            " [460.38 463.28]]\n"
          ]
        }
      ],
      "source": [
        "y_pred = regressor.predict(X_test)\n",
        "np.set_printoptions(precision=2)\n",
        "print(np.concatenate((y_pred.reshape(len(y_pred),1), y_test.reshape(len(y_test),1)),1))"
      ]
    },
    {
      "cell_type": "markdown",
      "metadata": {
        "id": "zijzZXos6MB_"
      },
      "source": [
        "## Evaluating the Model Performance"
      ]
    },
    {
      "cell_type": "code",
      "execution_count": 15,
      "metadata": {
        "colab": {
          "base_uri": "https://localhost:8080/"
        },
        "id": "VSNtWZSY6Pqx",
        "outputId": "167f6993-5aa6-43cd-be83-285a7b37f978"
      },
      "outputs": [
        {
          "data": {
            "text/plain": [
              "0.9615908334363876"
            ]
          },
          "execution_count": 15,
          "metadata": {},
          "output_type": "execute_result"
        }
      ],
      "source": [
        "from sklearn.metrics import r2_score\n",
        "r2_score(y_test, y_pred)"
      ]
    },
    {
      "cell_type": "markdown",
      "metadata": {
        "id": "p19J1thb6UNH"
      },
      "source": [
        "# -------------------------------------------------------------------"
      ]
    },
    {
      "cell_type": "markdown",
      "metadata": {
        "id": "OFVJ03c66X8f"
      },
      "source": [
        "## **Support Vector Regression (SVR)**"
      ]
    },
    {
      "cell_type": "markdown",
      "metadata": {
        "id": "7LeF2jrc6erB"
      },
      "source": [
        "### Additional scaling "
      ]
    },
    {
      "cell_type": "code",
      "execution_count": 16,
      "metadata": {
        "id": "YqzKbeNR6nwE"
      },
      "outputs": [],
      "source": [
        "y = y.reshape(len(y),1)"
      ]
    },
    {
      "cell_type": "markdown",
      "metadata": {
        "id": "teRIn6WU6pSb"
      },
      "source": [
        "### Splitting the dataset into the Training set and Test set"
      ]
    },
    {
      "cell_type": "code",
      "execution_count": 17,
      "metadata": {
        "id": "1l97H-nv6vPD"
      },
      "outputs": [],
      "source": [
        "from sklearn.model_selection import train_test_split\n",
        "X_train, X_test, y_train, y_test = train_test_split(X, y, test_size = 0.2, random_state = 0)"
      ]
    },
    {
      "cell_type": "markdown",
      "metadata": {
        "id": "KHd7TYQT6x__"
      },
      "source": [
        "## Feature Scaling"
      ]
    },
    {
      "cell_type": "code",
      "execution_count": 18,
      "metadata": {
        "id": "gTRdPjcj627J"
      },
      "outputs": [],
      "source": [
        "from sklearn.preprocessing import StandardScaler\n",
        "sc_X = StandardScaler()\n",
        "sc_y = StandardScaler()\n",
        "X_train = sc_X.fit_transform(X_train)\n",
        "y_train = sc_y.fit_transform(y_train)"
      ]
    },
    {
      "cell_type": "markdown",
      "metadata": {
        "id": "vkDmgIvp6869"
      },
      "source": [
        "### Training the SVR model on the Training set"
      ]
    },
    {
      "cell_type": "code",
      "execution_count": 19,
      "metadata": {
        "colab": {
          "base_uri": "https://localhost:8080/"
        },
        "id": "g1Y8lMMt7BGT",
        "outputId": "0329a31a-8a19-424a-f2d6-7fa9d1025d37"
      },
      "outputs": [
        {
          "name": "stderr",
          "output_type": "stream",
          "text": [
            "/usr/local/lib/python3.7/dist-packages/sklearn/utils/validation.py:993: DataConversionWarning: A column-vector y was passed when a 1d array was expected. Please change the shape of y to (n_samples, ), for example using ravel().\n",
            "  y = column_or_1d(y, warn=True)\n"
          ]
        },
        {
          "data": {
            "text/plain": [
              "SVR()"
            ]
          },
          "execution_count": 19,
          "metadata": {},
          "output_type": "execute_result"
        }
      ],
      "source": [
        "from sklearn.svm import SVR\n",
        "regressor = SVR(kernel = 'rbf')    # kernal can be linear - polynomial - rbf .....(read documentation)   DEFFAULT RBF\n",
        "regressor.fit(X_train, y_train)"
      ]
    },
    {
      "cell_type": "markdown",
      "metadata": {
        "id": "cNOTyFCe7pTm"
      },
      "source": [
        "### Predicting the Test set results"
      ]
    },
    {
      "cell_type": "code",
      "execution_count": 20,
      "metadata": {
        "colab": {
          "base_uri": "https://localhost:8080/"
        },
        "id": "EGgniFTn7qh0",
        "outputId": "2f21bc1c-9348-4505-d010-08a2fa8e2fd6"
      },
      "outputs": [
        {
          "name": "stdout",
          "output_type": "stream",
          "text": [
            "[[434.05 431.23]\n",
            " [457.94 460.01]\n",
            " [461.03 461.14]\n",
            " ...\n",
            " [470.6  473.26]\n",
            " [439.42 438.  ]\n",
            " [460.92 463.28]]\n"
          ]
        }
      ],
      "source": [
        "pred=regressor.predict(sc_X.transform(X_test))\n",
        "pred.reshape(len(pred),1)    #2d array  --> alot of scalling here\n",
        "y_pred = sc_y.inverse_transform(pred.reshape(-1,1))     #inverse transform accept only in shape (-1,1) and it must be 2d array\n",
        "np.set_printoptions(precision=2)\n",
        "print(np.concatenate((y_pred.reshape(len(y_pred),1), y_test.reshape(len(y_test),1)),1))"
      ]
    },
    {
      "cell_type": "markdown",
      "metadata": {
        "id": "MHUSOHbA8CIP"
      },
      "source": [
        "## Evaluating the Model Performance"
      ]
    },
    {
      "cell_type": "code",
      "execution_count": 21,
      "metadata": {
        "colab": {
          "base_uri": "https://localhost:8080/"
        },
        "id": "_H8D0sy38FDu",
        "outputId": "46f327a9-ddfc-42a6-daa5-dbcb15ec21cb"
      },
      "outputs": [
        {
          "data": {
            "text/plain": [
              "0.9480784049986258"
            ]
          },
          "execution_count": 21,
          "metadata": {},
          "output_type": "execute_result"
        }
      ],
      "source": [
        "from sklearn.metrics import r2_score\n",
        "r2_score(y_test, y_pred)"
      ]
    }
  ],
  "metadata": {
    "colab": {
      "collapsed_sections": [],
      "name": "Copy of Regression models summary.ipynb",
      "provenance": []
    },
    "kernelspec": {
      "display_name": "Python 3",
      "name": "python3"
    },
    "language_info": {
      "name": "python"
    }
  },
  "nbformat": 4,
  "nbformat_minor": 0
}
