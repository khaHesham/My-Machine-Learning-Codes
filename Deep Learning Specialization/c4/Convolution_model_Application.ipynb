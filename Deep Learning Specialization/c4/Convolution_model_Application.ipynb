{
 "cells": [
  {
   "cell_type": "markdown",
   "metadata": {},
   "source": [
    "# Convolutional Neural Networks: Application\n",
    "\n",
    "Welcome to Course 4's second assignment! In this notebook, you will:\n",
    "\n",
    "- Create a mood classifer using the TF Keras Sequential API\n",
    "- Build a ConvNet to identify sign language digits using the TF Keras Functional API\n",
    "\n",
    "**After this assignment you will be able to:**\n",
    "\n",
    "- Build and train a ConvNet in TensorFlow for a __binary__ classification problem\n",
    "- Build and train a ConvNet in TensorFlow for a __multiclass__ classification problem\n",
    "- Explain different use cases for the Sequential and Functional APIs\n",
    "\n",
    "To complete this assignment, you should already be familiar with TensorFlow. If you are not, please refer back to the **TensorFlow Tutorial** of the third week of Course 2 (\"**Improving deep neural networks**\").\n",
    "\n",
    "## Important Note on Submission to the AutoGrader\n",
    "\n",
    "Before submitting your assignment to the AutoGrader, please make sure you are not doing the following:\n",
    "\n",
    "1. You have not added any _extra_ `print` statement(s) in the assignment.\n",
    "2. You have not added any _extra_ code cell(s) in the assignment.\n",
    "3. You have not changed any of the function parameters.\n",
    "4. You are not using any global variables inside your graded exercises. Unless specifically instructed to do so, please refrain from it and use the local variables instead.\n",
    "5. You are not changing the assignment code where it is not required, like creating _extra_ variables.\n",
    "\n",
    "If you do any of the following, you will get something like, `Grader not found` (or similarly unexpected) error upon submitting your assignment. Before asking for help/debugging the errors in your assignment, check for these first. If this is the case, and you don't remember the changes you have made, you can get a fresh copy of the assignment by following these [instructions](https://www.coursera.org/learn/convolutional-neural-networks/supplement/DS4yP/h-ow-to-refresh-your-workspace)."
   ]
  },
  {
   "cell_type": "markdown",
   "metadata": {},
   "source": [
    "## Table of Contents\n",
    "\n",
    "- [1 - Packages](#1)\n",
    "    - [1.1 - Load the Data and Split the Data into Train/Test Sets](#1-1)\n",
    "- [2 - Layers in TF Keras](#2)\n",
    "- [3 - The Sequential API](#3)\n",
    "    - [3.1 - Create the Sequential Model](#3-1)\n",
    "        - [Exercise 1 - happyModel](#ex-1)\n",
    "    - [3.2 - Train and Evaluate the Model](#3-2)\n",
    "- [4 - The Functional API](#4)\n",
    "    - [4.1 - Load the SIGNS Dataset](#4-1)\n",
    "    - [4.2 - Split the Data into Train/Test Sets](#4-2)\n",
    "    - [4.3 - Forward Propagation](#4-3)\n",
    "        - [Exercise 2 - convolutional_model](#ex-2)\n",
    "    - [4.4 - Train the Model](#4-4)\n",
    "- [5 - History Object](#5)\n",
    "- [6 - Bibliography](#6)"
   ]
  },
  {
   "cell_type": "markdown",
   "metadata": {},
   "source": [
    "<a name='1'></a>\n",
    "## 1 - Packages\n",
    "\n",
    "As usual, begin by loading in the packages."
   ]
  },
  {
   "cell_type": "code",
   "execution_count": 1,
   "metadata": {},
   "outputs": [],
   "source": [
    "import math\n",
    "import numpy as np\n",
    "import h5py\n",
    "import matplotlib.pyplot as plt\n",
    "from matplotlib.pyplot import imread\n",
    "import scipy\n",
    "from PIL import Image\n",
    "import pandas as pd\n",
    "import tensorflow as tf\n",
    "import tensorflow.keras.layers as tfl\n",
    "from tensorflow.python.framework import ops\n",
    "from cnn_utils import *\n",
    "from test_utils import summary, comparator\n",
    "\n",
    "%matplotlib inline\n",
    "np.random.seed(1)"
   ]
  },
  {
   "cell_type": "markdown",
   "metadata": {},
   "source": [
    "<a name='1-1'></a>\n",
    "### 1.1 - Load the Data and Split the Data into Train/Test Sets\n",
    "\n",
    "You'll be using the Happy House dataset for this part of the assignment, which contains images of peoples' faces. Your task will be to build a ConvNet that determines whether the people in the images are smiling or not -- because they only get to enter the house if they're smiling!  "
   ]
  },
  {
   "cell_type": "code",
   "execution_count": 2,
   "metadata": {},
   "outputs": [
    {
     "name": "stdout",
     "output_type": "stream",
     "text": [
      "number of training examples = 600\n",
      "number of test examples = 150\n",
      "X_train shape: (600, 64, 64, 3)\n",
      "Y_train shape: (600, 1)\n",
      "X_test shape: (150, 64, 64, 3)\n",
      "Y_test shape: (150, 1)\n"
     ]
    }
   ],
   "source": [
    "X_train_orig, Y_train_orig, X_test_orig, Y_test_orig, classes = load_happy_dataset()\n",
    "\n",
    "# Normalize image vectors\n",
    "X_train = X_train_orig/255.\n",
    "X_test = X_test_orig/255.\n",
    "\n",
    "# Reshape\n",
    "Y_train = Y_train_orig.T\n",
    "Y_test = Y_test_orig.T\n",
    "\n",
    "print (\"number of training examples = \" + str(X_train.shape[0]))\n",
    "print (\"number of test examples = \" + str(X_test.shape[0]))\n",
    "print (\"X_train shape: \" + str(X_train.shape))\n",
    "print (\"Y_train shape: \" + str(Y_train.shape))\n",
    "print (\"X_test shape: \" + str(X_test.shape))\n",
    "print (\"Y_test shape: \" + str(Y_test.shape))"
   ]
  },
  {
   "cell_type": "markdown",
   "metadata": {},
   "source": [
    "You can display the images contained in the dataset. Images are **64x64** pixels in RGB format (3 channels)."
   ]
  },
  {
   "cell_type": "code",
   "execution_count": 3,
   "metadata": {},
   "outputs": [
    {
     "data": {
      "image/png": "[encoded data removed]",
      "text/plain": [
       "<Figure size 432x288 with 1 Axes>"
      ]
     },
     "metadata": {
      "needs_background": "light"
     },
     "output_type": "display_data"
    }
   ],
   "source": [
    "index = 124\n",
    "plt.imshow(X_train_orig[index]) #display sample training image\n",
    "plt.show()"
   ]
  },
  {
   "cell_type": "markdown",
   "metadata": {},
   "source": [
    "<a name='2'></a>\n",
    "## 2 - Layers in TF Keras \n",
    "\n",
    "In the previous assignment, you created layers manually in numpy. In TF Keras, you don't have to write code directly to create layers. Rather, TF Keras has pre-defined layers you can use. \n",
    "\n",
    "When you create a layer in TF Keras, you are creating a function that takes some input and transforms it into an output you can reuse later. Nice and easy! "
   ]
  },
  {
   "cell_type": "markdown",
   "metadata": {},
   "source": [
    "<a name='3'></a>\n",
    "## 3 - The Sequential API\n",
    "\n",
    "In the previous assignment, you built helper functions using `numpy` to understand the mechanics behind convolutional neural networks. Most practical applications of deep learning today are built using programming frameworks, which have many built-in functions you can simply call. Keras is a high-level abstraction built on top of TensorFlow, which allows for even more simplified and optimized model creation and training. \n",
    "\n",
    "For the first part of this assignment, you'll create a model using TF Keras' Sequential API, which allows you to build layer by layer, and is ideal for building models where each layer has **exactly one** input tensor and **one** output tensor. \n",
    "\n",
    "As you'll see, using the Sequential API is simple and straightforward, but is only appropriate for simpler, more straightforward tasks. Later in this notebook you'll spend some time building with a more flexible, powerful alternative: the Functional API. \n",
    " "
   ]
  },
  {
   "cell_type": "markdown",
   "metadata": {},
   "source": [
    "<a name='3-1'></a>\n",
    "### 3.1 - Create the Sequential Model\n",
    "\n",
    "As mentioned earlier, the TensorFlow Keras Sequential API can be used to build simple models with layer operations that proceed in a sequential order. \n",
    "\n",
    "You can also add layers incrementally to a Sequential model with the `.add()` method, or remove them using the `.pop()` method, much like you would in a regular Python list.\n",
    "\n",
    "Actually, you can think of a Sequential model as behaving like a list of layers. Like Python lists, Sequential layers are ordered, and the order in which they are specified matters.  If your model is non-linear or contains layers with multiple inputs or outputs, a Sequential model wouldn't be the right choice!\n",
    "\n",
    "For any layer construction in Keras, you'll need to specify the input shape in advance. This is because in Keras, the shape of the weights is based on the shape of the inputs. The weights are only created when the model first sees some input data. Sequential models can be created by passing a list of layers to the Sequential constructor, like you will do in the next assignment.\n",
    "\n",
    "<a name='ex-1'></a>\n",
    "### Exercise 1 - happyModel\n",
    "\n",
    "Implement the `happyModel` function below to build the following model: `ZEROPAD2D -> CONV2D -> BATCHNORM -> RELU -> MAXPOOL -> FLATTEN -> DENSE`. Take help from [tf.keras.layers](https://www.tensorflow.org/api_docs/python/tf/keras/layers) \n",
    "\n",
    "Also, plug in the following parameters for all the steps:\n",
    "\n",
    " - [ZeroPadding2D](https://www.tensorflow.org/api_docs/python/tf/keras/layers/ZeroPadding2D): padding 3, input shape 64 x 64 x 3\n",
    " - [Conv2D](https://www.tensorflow.org/api_docs/python/tf/keras/layers/Conv2D): Use 32 7x7 filters, stride 1\n",
    " - [BatchNormalization](https://www.tensorflow.org/api_docs/python/tf/keras/layers/BatchNormalization): for axis 3\n",
    " - [ReLU](https://www.tensorflow.org/api_docs/python/tf/keras/layers/ReLU)\n",
    " - [MaxPool2D](https://www.tensorflow.org/api_docs/python/tf/keras/layers/MaxPool2D): Using default parameters\n",
    " - [Flatten](https://www.tensorflow.org/api_docs/python/tf/keras/layers/Flatten) the previous output.\n",
    " - Fully-connected ([Dense](https://www.tensorflow.org/api_docs/python/tf/keras/layers/Dense)) layer: Apply a fully connected layer with 1 neuron and a sigmoid activation. \n",
    " \n",
    " \n",
    " **Hint:**\n",
    " \n",
    " Use **tfl** as shorthand for **tensorflow.keras.layers**"
   ]
  },
  {
   "cell_type": "code",
   "execution_count": 21,
   "metadata": {
    "deletable": false,
    "nbgrader": {
     "cell_type": "code",
     "checksum": "95d28b191f257bdd5b70c7b8952559d5",
     "grade": false,
     "grade_id": "cell-0e56d3fc28b69aec",
     "locked": false,
     "schema_version": 3,
     "solution": true,
     "task": false
    }
   },
   "outputs": [],
   "source": [
    "# GRADED FUNCTION: happyModel\n",
    "\n",
    "def happyModel():\n",
    "    \"\"\"\n",
    "    Implements the forward propagation for the binary classification model:\n",
    "    ZEROPAD2D -> CONV2D -> BATCHNORM -> RELU -> MAXPOOL -> FLATTEN -> DENSE\n",
    "    \n",
    "    Note that for simplicity and grading purposes, you'll hard-code all the values\n",
    "    such as the stride and kernel (filter) sizes. \n",
    "    Normally, functions should take these values as function parameters.\n",
    "    \n",
    "    Arguments:\n",
    "    None\n",
    "\n",
    "    Returns:\n",
    "    model -- TF Keras model (object containing the information for the entire training process) \n",
    "    \"\"\"\n",
    "    model = tf.keras.Sequential([\n",
    "            ## ZeroPadding2D with padding 3, input shape of 64 x 64 x 3\n",
    "            \n",
    "            ## Conv2D with 32 7x7 filters and stride of 1\n",
    "            \n",
    "            ## BatchNormalization for axis 3\n",
    "            \n",
    "            ## ReLU\n",
    "            \n",
    "            ## Max Pooling 2D with default parameters\n",
    "            \n",
    "            ## Flatten layer\n",
    "            \n",
    "            ## Dense layer with 1 unit for output & 'sigmoid' activation\n",
    "            \n",
    "            # YOUR CODE STARTS HERE\n",
    "            tfl.ZeroPadding2D(padding=(3,3),input_shape=(64,64,3)),\n",
    "            tfl.Conv2D(32,(7,7),strides=(1,1)),\n",
    "            tfl.BatchNormalization(axis=3),\n",
    "            tfl.ReLU(),\n",
    "            tfl.MaxPool2D(),\n",
    "            tfl.Flatten(),\n",
    "            tfl.Dense(1,activation='sigmoid',name='output')\n",
    "        \n",
    "            \n",
    "            # YOUR CODE ENDS HERE\n",
    "        ])\n",
    "    \n",
    "    return model"
   ]
  },
  {
   "cell_type": "code",
   "execution_count": 22,
   "metadata": {
    "deletable": false,
    "editable": false,
    "nbgrader": {
     "cell_type": "code",
     "checksum": "8d3575c950e2e78149be2d05d671c80d",
     "grade": true,
     "grade_id": "cell-e3e1046e5c33d775",
     "locked": true,
     "points": 10,
     "schema_version": 3,
     "solution": false,
     "task": false
    }
   },
   "outputs": [
    {
     "name": "stdout",
     "output_type": "stream",
     "text": [
      "['ZeroPadding2D', (None, 70, 70, 3), 0, ((3, 3), (3, 3))]\n",
      "['Conv2D', (None, 64, 64, 32), 4736, 'valid', 'linear', 'GlorotUniform']\n",
      "['BatchNormalization', (None, 64, 64, 32), 128]\n",
      "['ReLU', (None, 64, 64, 32), 0]\n",
      "['MaxPooling2D', (None, 32, 32, 32), 0, (2, 2), (2, 2), 'valid']\n",
      "['Flatten', (None, 32768), 0]\n",
      "['Dense', (None, 1), 32769, 'sigmoid']\n",
      "\u001b[32mAll tests passed!\u001b[0m\n"
     ]
    }
   ],
   "source": [
    "happy_model = happyModel()\n",
    "# Print a summary for each layer\n",
    "for layer in summary(happy_model):\n",
    "    print(layer)\n",
    "    \n",
    "output = [['ZeroPadding2D', (None, 70, 70, 3), 0, ((3, 3), (3, 3))],\n",
    "            ['Conv2D', (None, 64, 64, 32), 4736, 'valid', 'linear', 'GlorotUniform'],\n",
    "            ['BatchNormalization', (None, 64, 64, 32), 128],\n",
    "            ['ReLU', (None, 64, 64, 32), 0],\n",
    "            ['MaxPooling2D', (None, 32, 32, 32), 0, (2, 2), (2, 2), 'valid'],\n",
    "            ['Flatten', (None, 32768), 0],\n",
    "            ['Dense', (None, 1), 32769, 'sigmoid']]\n",
    "    \n",
    "comparator(summary(happy_model), output)"
   ]
  },
  {
   "cell_type": "markdown",
   "metadata": {},
   "source": [
    "Now that your model is created, you can compile it for training with an optimizer and loss of your choice. When the string `accuracy` is specified as a metric, the type of accuracy used will be automatically converted based on the loss function used. This is one of the many optimizations built into TensorFlow that make your life easier! If you'd like to read more on how the compiler operates, check the docs [here](https://www.tensorflow.org/api_docs/python/tf/keras/Model#compile)."
   ]
  },
  {
   "cell_type": "code",
   "execution_count": 23,
   "metadata": {},
   "outputs": [],
   "source": [
    "happy_model.compile(optimizer='adam',\n",
    "                   loss='binary_crossentropy',\n",
    "                   metrics=['accuracy'])"
   ]
  },
  {
   "cell_type": "markdown",
   "metadata": {},
   "source": [
    "It's time to check your model's parameters with the `.summary()` method. This will display the types of layers you have, the shape of the outputs, and how many parameters are in each layer. "
   ]
  },
  {
   "cell_type": "code",
   "execution_count": 24,
   "metadata": {},
   "outputs": [
    {
     "name": "stdout",
     "output_type": "stream",
     "text": [
      "Model: \"sequential_2\"\n",
      "_________________________________________________________________\n",
      "Layer (type)                 Output Shape              Param #   \n",
      "=================================================================\n",
      "zero_padding2d_5 (ZeroPaddin (None, 70, 70, 3)         0         \n",
      "_________________________________________________________________\n",
      "conv2d_2 (Conv2D)            (None, 64, 64, 32)        4736      \n",
      "_________________________________________________________________\n",
      "batch_normalization_2 (Batch (None, 64, 64, 32)        128       \n",
      "_________________________________________________________________\n",
      "re_lu_2 (ReLU)               (None, 64, 64, 32)        0         \n",
      "_________________________________________________________________\n",
      "max_pooling2d_2 (MaxPooling2 (None, 32, 32, 32)        0         \n",
      "_________________________________________________________________\n",
      "flatten_10 (Flatten)         (None, 32768)             0         \n",
      "_________________________________________________________________\n",
      "output (Dense)               (None, 1)                 32769     \n",
      "=================================================================\n",
      "Total params: 37,633\n",
      "Trainable params: 37,569\n",
      "Non-trainable params: 64\n",
      "_________________________________________________________________\n"
     ]
    }
   ],
   "source": [
    "happy_model.summary()"
   ]
  },
  {
   "cell_type": "markdown",
   "metadata": {},
   "source": [
    "<a name='3-2'></a>\n",
    "### 3.2 - Train and Evaluate the Model\n",
    "\n",
    "After creating the model, compiling it with your choice of optimizer and loss function, and doing a sanity check on its contents, you are now ready to build! \n",
    "\n",
    "Simply call `.fit()` to train. That's it! No need for mini-batching, saving, or complex backpropagation computations. That's all been done for you, as you're using a TensorFlow dataset with the batches specified already. You do have the option to specify epoch number or minibatch size if you like (for example, in the case of an un-batched dataset)."
   ]
  },
  {
   "cell_type": "code",
   "execution_count": 25,
   "metadata": {},
   "outputs": [
    {
     "name": "stdout",
     "output_type": "stream",
     "text": [
      "Epoch 1/10\n",
      "38/38 [==============================] - 4s 103ms/step - loss: 1.4007 - accuracy: 0.6867\n",
      "Epoch 2/10\n",
      "38/38 [==============================] - 4s 95ms/step - loss: 0.2545 - accuracy: 0.8817\n",
      "Epoch 3/10\n",
      "38/38 [==============================] - 4s 97ms/step - loss: 0.1779 - accuracy: 0.9233\n",
      "Epoch 4/10\n",
      "38/38 [==============================] - 4s 95ms/step - loss: 0.1097 - accuracy: 0.9617\n",
      "Epoch 5/10\n",
      "38/38 [==============================] - 4s 95ms/step - loss: 0.0838 - accuracy: 0.9717\n",
      "Epoch 6/10\n",
      "38/38 [==============================] - 4s 97ms/step - loss: 0.1296 - accuracy: 0.9517\n",
      "Epoch 7/10\n",
      "38/38 [==============================] - 4s 97ms/step - loss: 0.0749 - accuracy: 0.9833\n",
      "Epoch 8/10\n",
      "38/38 [==============================] - 4s 95ms/step - loss: 0.0885 - accuracy: 0.9733\n",
      "Epoch 9/10\n",
      "38/38 [==============================] - 4s 100ms/step - loss: 0.1165 - accuracy: 0.9583\n",
      "Epoch 10/10\n",
      "38/38 [==============================] - 4s 100ms/step - loss: 0.0991 - accuracy: 0.9650\n"
     ]
    },
    {
     "data": {
      "text/plain": [
       "<tensorflow.python.keras.callbacks.History at 0x7fc1ee4e4290>"
      ]
     },
     "execution_count": 25,
     "metadata": {},
     "output_type": "execute_result"
    }
   ],
   "source": [
    "happy_model.fit(X_train, Y_train, epochs=10, batch_size=16)"
   ]
  },
  {
   "cell_type": "markdown",
   "metadata": {},
   "source": [
    "After that completes, just use `.evaluate()` to evaluate against your test set. This function will print the value of the loss function and the performance metrics specified during the compilation of the model. In this case, the `binary_crossentropy` and the `accuracy` respectively."
   ]
  },
  {
   "cell_type": "code",
   "execution_count": 26,
   "metadata": {},
   "outputs": [
    {
     "name": "stdout",
     "output_type": "stream",
     "text": [
      "5/5 [==============================] - 0s 24ms/step - loss: 0.1714 - accuracy: 0.9133\n"
     ]
    },
    {
     "data": {
      "text/plain": [
       "[0.17135240137577057, 0.9133333563804626]"
      ]
     },
     "execution_count": 26,
     "metadata": {},
     "output_type": "execute_result"
    }
   ],
   "source": [
    "happy_model.evaluate(X_test, Y_test)"
   ]
  },
  {
   "cell_type": "markdown",
   "metadata": {},
   "source": [
    "Easy, right? But what if you need to build a model with shared layers, branches, or multiple inputs and outputs? This is where Sequential, with its beautifully simple yet limited functionality, won't be able to help you. \n",
    "\n",
    "Next up: Enter the Functional API, your slightly more complex, highly flexible friend.  "
   ]
  },
  {
   "cell_type": "markdown",
   "metadata": {},
   "source": [
    "<a name='4'></a>\n",
    "## 4 - The Functional API"
   ]
  },
  {
   "cell_type": "markdown",
   "metadata": {},
   "source": [
    "Welcome to the second half of the assignment, where you'll use Keras' flexible [Functional API](https://www.tensorflow.org/guide/keras/functional) to build a ConvNet that can differentiate between 6 sign language digits. \n",
    "\n",
    "The Functional API can handle models with non-linear topology, shared layers, as well as layers with multiple inputs or outputs. Imagine that, where the Sequential API requires the model to move in a linear fashion through its layers, the Functional API allows much more flexibility. Where Sequential is a straight line, a Functional model is a graph, where the nodes of the layers can connect in many more ways than one. \n",
    "\n",
    "In the visual example below, the one possible direction of the movement Sequential model is shown in contrast to a skip connection, which is just one of the many ways a Functional model can be constructed. A skip connection, as you might have guessed, skips some layer in the network and feeds the output to a later layer in the network. Don't worry, you'll be spending more time with skip connections very soon! "
   ]
  },
  {
   "cell_type": "markdown",
   "metadata": {},
   "source": [
    "<img src=\"images/seq_vs_func.png\" style=\"width:350px;height:200px;\">"
   ]
  },
  {
   "cell_type": "markdown",
   "metadata": {},
   "source": [
    "<a name='4-1'></a>\n",
    "### 4.1 - Load the SIGNS Dataset\n",
    "\n",
    "As a reminder, the SIGNS dataset is a collection of 6 signs representing numbers from 0 to 5."
   ]
  },
  {
   "cell_type": "code",
   "execution_count": 27,
   "metadata": {},
   "outputs": [],
   "source": [
    "# Loading the data (signs)\n",
    "X_train_orig, Y_train_orig, X_test_orig, Y_test_orig, classes = load_signs_dataset()"
   ]
  },
  {
   "cell_type": "markdown",
   "metadata": {},
   "source": [
    "<img src=\"images/SIGNS.png\" style=\"width:800px;height:300px;\">\n",
    "\n",
    "The next cell will show you an example of a labelled image in the dataset. Feel free to change the value of `index` below and re-run to see different examples. "
   ]
  },
  {
   "cell_type": "code",
   "execution_count": 28,
   "metadata": {},
   "outputs": [
    {
     "name": "stdout",
     "output_type": "stream",
     "text": [
      "y = 4\n"
     ]
    },
    {
     "data": {
      "image/png": "[encoded data removed]",
      "text/plain": [
       "<Figure size 432x288 with 1 Axes>"
      ]
     },
     "metadata": {
      "needs_background": "light"
     },
     "output_type": "display_data"
    }
   ],
   "source": [
    "# Example of an image from the dataset\n",
    "index = 9\n",
    "plt.imshow(X_train_orig[index])\n",
    "print (\"y = \" + str(np.squeeze(Y_train_orig[:, index])))"
   ]
  },
  {
   "cell_type": "markdown",
   "metadata": {},
   "source": [
    "<a name='4-2'></a>\n",
    "### 4.2 - Split the Data into Train/Test Sets\n",
    "\n",
    "In Course 2, you built a fully-connected network for this dataset. But since this is an image dataset, it is more natural to apply a ConvNet to it.\n",
    "\n",
    "To get started, let's examine the shapes of your data. "
   ]
  },
  {
   "cell_type": "code",
   "execution_count": 29,
   "metadata": {},
   "outputs": [
    {
     "name": "stdout",
     "output_type": "stream",
     "text": [
      "number of training examples = 1080\n",
      "number of test examples = 120\n",
      "X_train shape: (1080, 64, 64, 3)\n",
      "Y_train shape: (1080, 6)\n",
      "X_test shape: (120, 64, 64, 3)\n",
      "Y_test shape: (120, 6)\n"
     ]
    }
   ],
   "source": [
    "X_train = X_train_orig/255.\n",
    "X_test = X_test_orig/255.\n",
    "Y_train = convert_to_one_hot(Y_train_orig, 6).T\n",
    "Y_test = convert_to_one_hot(Y_test_orig, 6).T\n",
    "print (\"number of training examples = \" + str(X_train.shape[0]))\n",
    "print (\"number of test examples = \" + str(X_test.shape[0]))\n",
    "print (\"X_train shape: \" + str(X_train.shape))\n",
    "print (\"Y_train shape: \" + str(Y_train.shape))\n",
    "print (\"X_test shape: \" + str(X_test.shape))\n",
    "print (\"Y_test shape: \" + str(Y_test.shape))"
   ]
  },
  {
   "cell_type": "markdown",
   "metadata": {},
   "source": [
    "<a name='4-3'></a>\n",
    "### 4.3 - Forward Propagation\n",
    "\n",
    "In TensorFlow, there are built-in functions that implement the convolution steps for you. By now, you should be familiar with how TensorFlow builds computational graphs. In the [Functional API](https://www.tensorflow.org/guide/keras/functional), you create a graph of layers. This is what allows such great flexibility.\n",
    "\n",
    "However, the following model could also be defined using the Sequential API since the information flow is on a single line. But don't deviate. What we want you to learn is to use the functional API.\n",
    "\n",
    "Begin building your graph of layers by creating an input node that functions as a callable object:\n",
    "\n",
    "- **input_img = tf.keras.Input(shape=input_shape):** \n",
    "\n",
    "Then, create a new node in the graph of layers by calling a layer on the `input_img` object: \n",
    "\n",
    "- **tf.keras.layers.Conv2D(filters= ... , kernel_size= ... , padding='same')(input_img):** Read the full documentation on [Conv2D](https://www.tensorflow.org/api_docs/python/tf/keras/layers/Conv2D).\n",
    "\n",
    "- **tf.keras.layers.MaxPool2D(pool_size=(f, f), strides=(s, s), padding='same'):** `MaxPool2D()` downsamples your input using a window of size (f, f) and strides of size (s, s) to carry out max pooling over each window.  For max pooling, you usually operate on a single example at a time and a single channel at a time. Read the full documentation on [MaxPool2D](https://www.tensorflow.org/api_docs/python/tf/keras/layers/MaxPool2D).\n",
    "\n",
    "- **tf.keras.layers.ReLU():** computes the elementwise ReLU of Z (which can be any shape). You can read the full documentation on [ReLU](https://www.tensorflow.org/api_docs/python/tf/keras/layers/ReLU).\n",
    "\n",
    "- **tf.keras.layers.Flatten()**: given a tensor \"P\", this function takes each training (or test) example in the batch and flattens it into a 1D vector.  \n",
    "\n",
    "    * If a tensor P has the shape (batch_size,h,w,c), it returns a flattened tensor with shape (batch_size, k), where $k=h \\times w \\times c$.  \"k\" equals the product of all the dimension sizes other than the first dimension.\n",
    "    \n",
    "    * For example, given a tensor with dimensions [100, 2, 3, 4], it flattens the tensor to be of shape [100, 24], where 24 = 2 * 3 * 4.  You can read the full documentation on [Flatten](https://www.tensorflow.org/api_docs/python/tf/keras/layers/Flatten).\n",
    "\n",
    "- **tf.keras.layers.Dense(units= ... , activation='softmax')(F):** given the flattened input F, it returns the output computed using a fully connected layer. You can read the full documentation on [Dense](https://www.tensorflow.org/api_docs/python/tf/keras/layers/Dense).\n",
    "\n",
    "In the last function above (`tf.keras.layers.Dense()`), the fully connected layer automatically initializes weights in the graph and keeps on training them as you train the model. Hence, you did not need to initialize those weights when initializing the parameters.\n",
    "\n",
    "Lastly, before creating the model, you'll need to define the output using the last of the function's compositions (in this example, a Dense layer): \n",
    "\n",
    "- **outputs = tf.keras.layers.Dense(units=6, activation='softmax')(F)**\n",
    "\n",
    "\n",
    "#### Window, kernel, filter, pool\n",
    "\n",
    "The words \"kernel\" and \"filter\" are used to refer to the same thing. The word \"filter\" accounts for the amount of \"kernels\" that will be used in a single convolution layer. \"Pool\" is the name of the operation that takes the max or average value of the kernels. \n",
    "\n",
    "This is why the parameter `pool_size` refers to `kernel_size`, and you use `(f,f)` to refer to the filter size. \n",
    "\n",
    "Pool size and kernel size refer to the same thing in different objects - They refer to the shape of the window where the operation takes place. "
   ]
  },
  {
   "cell_type": "markdown",
   "metadata": {},
   "source": [
    "<a name='ex-2'></a>\n",
    "### Exercise 2 - convolutional_model\n",
    "\n",
    "Implement the `convolutional_model` function below to build the following model: `CONV2D -> RELU -> MAXPOOL -> CONV2D -> RELU -> MAXPOOL -> FLATTEN -> DENSE`. Use the functions above! \n",
    "\n",
    "Also, plug in the following parameters for all the steps:\n",
    "\n",
    " - [Conv2D](https://www.tensorflow.org/api_docs/python/tf/keras/layers/Conv2D): Use 8 4 by 4 filters, stride 1, padding is \"SAME\"\n",
    " - [ReLU](https://www.tensorflow.org/api_docs/python/tf/keras/layers/ReLU)\n",
    " - [MaxPool2D](https://www.tensorflow.org/api_docs/python/tf/keras/layers/MaxPool2D): Use an 8 by 8 filter size and an 8 by 8 stride, padding is \"SAME\"\n",
    " - **Conv2D**: Use 16 2 by 2 filters, stride 1, padding is \"SAME\"\n",
    " - **ReLU**\n",
    " - **MaxPool2D**: Use a 4 by 4 filter size and a 4 by 4 stride, padding is \"SAME\"\n",
    " - [Flatten](https://www.tensorflow.org/api_docs/python/tf/keras/layers/Flatten) the previous output.\n",
    " - Fully-connected ([Dense](https://www.tensorflow.org/api_docs/python/tf/keras/layers/Dense)) layer: Apply a fully connected layer with 6 neurons and a softmax activation. "
   ]
  },
  {
   "cell_type": "code",
   "execution_count": 47,
   "metadata": {
    "deletable": false,
    "nbgrader": {
     "cell_type": "code",
     "checksum": "f58643806aa8380c96225fc8b4c5e7aa",
     "grade": false,
     "grade_id": "cell-dac51744a9e03f51",
     "locked": false,
     "schema_version": 3,
     "solution": true,
     "task": false
    }
   },
   "outputs": [],
   "source": [
    "# GRADED FUNCTION: convolutional_model\n",
    "\n",
    "def convolutional_model(input_shape):\n",
    "    \"\"\"\n",
    "    Implements the forward propagation for the model:\n",
    "    CONV2D -> RELU -> MAXPOOL -> CONV2D -> RELU -> MAXPOOL -> FLATTEN -> DENSE\n",
    "    \n",
    "    Note that for simplicity and grading purposes, you'll hard-code some values\n",
    "    such as the stride and kernel (filter) sizes. \n",
    "    Normally, functions should take these values as function parameters.\n",
    "    \n",
    "    Arguments:\n",
    "    input_img -- input dataset, of shape (input_shape)\n",
    "\n",
    "    Returns:\n",
    "    model -- TF Keras model (object containing the information for the entire training process) \n",
    "    \"\"\"\n",
    "\n",
    "    input_img = tf.keras.Input(shape=input_shape)\n",
    "    #\n",
    "    # YOUR CODE STARTS HERE\n",
    "    # CONV2D: 8 filters 4x4, stride of 1, padding 'SAME'\n",
    "    Z1 = tf.keras.layers.Conv2D(8,(4,4),strides=(1,1),padding='same')(input_img)\n",
    "    ## RELU\n",
    "    A1 = tf.keras.layers.ReLU()(Z1)\n",
    "    ## MAXPOOL: window 8x8, stride 8, padding 'SAME'\n",
    "    P1 = tf.keras.layers.MaxPool2D((8,8),strides=(8,8),padding='same')(A1)\n",
    "    ## CONV2D: 16 filters 2x2, stride 1, padding 'SAME'\n",
    "    Z2 = tf.keras.layers.Conv2D(16,(2,2),strides=(1,1),padding='same')(P1)\n",
    "    ## RELU\n",
    "    A2 = tf.keras.layers.ReLU()(Z2)\n",
    "    ## MAXPOOL: window 4x4, stride 4, padding 'SAME'\n",
    "    P2 = tf.keras.layers.MaxPool2D((4,4),strides=(4,4),padding='same')(A2)\n",
    "    ## FLATTEN\n",
    "    F = tf.keras.layers.Flatten()(P2)\n",
    "    ## Dense layer\n",
    "    ## 6 neurons in output layer. Hint: one of the arguments should be \"activation='softmax'\" \n",
    "    outputs = tf.keras.layers.Dense(6,activation='softmax',name='output')(F)\n",
    "    \n",
    "    \n",
    "    # YOUR CODE ENDS HERE\n",
    "    model = tf.keras.Model(inputs=input_img, outputs=outputs)\n",
    "    return model"
   ]
  },
  {
   "cell_type": "code",
   "execution_count": 48,
   "metadata": {
    "deletable": false,
    "editable": false,
    "nbgrader": {
     "cell_type": "code",
     "checksum": "483d626949930a0b0ef20997e7c6ba72",
     "grade": true,
     "grade_id": "cell-45d22e92042174c9",
     "locked": true,
     "points": 10,
     "schema_version": 3,
     "solution": false,
     "task": false
    }
   },
   "outputs": [
    {
     "name": "stdout",
     "output_type": "stream",
     "text": [
      "Model: \"functional_7\"\n",
      "_________________________________________________________________\n",
      "Layer (type)                 Output Shape              Param #   \n",
      "=================================================================\n",
      "input_9 (InputLayer)         [(None, 64, 64, 3)]       0         \n",
      "_________________________________________________________________\n",
      "conv2d_16 (Conv2D)           (None, 64, 64, 8)         392       \n",
      "_________________________________________________________________\n",
      "re_lu_15 (ReLU)              (None, 64, 64, 8)         0         \n",
      "_________________________________________________________________\n",
      "max_pooling2d_13 (MaxPooling (None, 8, 8, 8)           0         \n",
      "_________________________________________________________________\n",
      "conv2d_17 (Conv2D)           (None, 8, 8, 16)          528       \n",
      "_________________________________________________________________\n",
      "re_lu_16 (ReLU)              (None, 8, 8, 16)          0         \n",
      "_________________________________________________________________\n",
      "max_pooling2d_14 (MaxPooling (None, 2, 2, 16)          0         \n",
      "_________________________________________________________________\n",
      "flatten_15 (Flatten)         (None, 64)                0         \n",
      "_________________________________________________________________\n",
      "output (Dense)               (None, 6)                 390       \n",
      "=================================================================\n",
      "Total params: 1,310\n",
      "Trainable params: 1,310\n",
      "Non-trainable params: 0\n",
      "_________________________________________________________________\n",
      "\u001b[32mAll tests passed!\u001b[0m\n"
     ]
    }
   ],
   "source": [
    "conv_model = convolutional_model((64, 64, 3))\n",
    "conv_model.compile(optimizer='adam',\n",
    "                  loss='categorical_crossentropy',\n",
    "                  metrics=['accuracy'])\n",
    "conv_model.summary()\n",
    "    \n",
    "output = [['InputLayer', [(None, 64, 64, 3)], 0],\n",
    "        ['Conv2D', (None, 64, 64, 8), 392, 'same', 'linear', 'GlorotUniform'],\n",
    "        ['ReLU', (None, 64, 64, 8), 0],\n",
    "        ['MaxPooling2D', (None, 8, 8, 8), 0, (8, 8), (8, 8), 'same'],\n",
    "        ['Conv2D', (None, 8, 8, 16), 528, 'same', 'linear', 'GlorotUniform'],\n",
    "        ['ReLU', (None, 8, 8, 16), 0],\n",
    "        ['MaxPooling2D', (None, 2, 2, 16), 0, (4, 4), (4, 4), 'same'],\n",
    "        ['Flatten', (None, 64), 0],\n",
    "        ['Dense', (None, 6), 390, 'softmax']]\n",
    "    \n",
    "comparator(summary(conv_model), output)"
   ]
  },
  {
   "cell_type": "markdown",
   "metadata": {},
   "source": [
    "Both the Sequential and Functional APIs return a TF Keras model object. The only difference is how inputs are handled inside the object model! "
   ]
  },
  {
   "cell_type": "markdown",
   "metadata": {},
   "source": [
    "<a name='4-4'></a>\n",
    "### 4.4 - Train the Model"
   ]
  },
  {
   "cell_type": "code",
   "execution_count": 49,
   "metadata": {},
   "outputs": [
    {
     "name": "stdout",
     "output_type": "stream",
     "text": [
      "Epoch 1/100\n",
      "17/17 [==============================] - 2s 112ms/step - loss: 1.7966 - accuracy: 0.1806 - val_loss: 1.7888 - val_accuracy: 0.1583\n",
      "Epoch 2/100\n",
      "17/17 [==============================] - 2s 106ms/step - loss: 1.7875 - accuracy: 0.1731 - val_loss: 1.7840 - val_accuracy: 0.1917\n",
      "Epoch 3/100\n",
      "17/17 [==============================] - 2s 106ms/step - loss: 1.7805 - accuracy: 0.2046 - val_loss: 1.7762 - val_accuracy: 0.2000\n",
      "Epoch 4/100\n",
      "17/17 [==============================] - 2s 106ms/step - loss: 1.7716 - accuracy: 0.2454 - val_loss: 1.7663 - val_accuracy: 0.2833\n",
      "Epoch 5/100\n",
      "17/17 [==============================] - 2s 111ms/step - loss: 1.7585 - accuracy: 0.3130 - val_loss: 1.7520 - val_accuracy: 0.2750\n",
      "Epoch 6/100\n",
      "17/17 [==============================] - 2s 106ms/step - loss: 1.7433 - accuracy: 0.3704 - val_loss: 1.7342 - val_accuracy: 0.3417\n",
      "Epoch 7/100\n",
      "17/17 [==============================] - 2s 101ms/step - loss: 1.7234 - accuracy: 0.3889 - val_loss: 1.7128 - val_accuracy: 0.3917\n",
      "Epoch 8/100\n",
      "17/17 [==============================] - 2s 106ms/step - loss: 1.6994 - accuracy: 0.4343 - val_loss: 1.6857 - val_accuracy: 0.4250\n",
      "Epoch 9/100\n",
      "17/17 [==============================] - 2s 106ms/step - loss: 1.6670 - accuracy: 0.4528 - val_loss: 1.6487 - val_accuracy: 0.4333\n",
      "Epoch 10/100\n",
      "17/17 [==============================] - 2s 111ms/step - loss: 1.6233 - accuracy: 0.4926 - val_loss: 1.6053 - val_accuracy: 0.4833\n",
      "Epoch 11/100\n",
      "17/17 [==============================] - 2s 107ms/step - loss: 1.5740 - accuracy: 0.5009 - val_loss: 1.5576 - val_accuracy: 0.5000\n",
      "Epoch 12/100\n",
      "17/17 [==============================] - 2s 106ms/step - loss: 1.5231 - accuracy: 0.5213 - val_loss: 1.5083 - val_accuracy: 0.5250\n",
      "Epoch 13/100\n",
      "17/17 [==============================] - 2s 111ms/step - loss: 1.4685 - accuracy: 0.5352 - val_loss: 1.4542 - val_accuracy: 0.5333\n",
      "Epoch 14/100\n",
      "17/17 [==============================] - 2s 107ms/step - loss: 1.4110 - accuracy: 0.5546 - val_loss: 1.4053 - val_accuracy: 0.5167\n",
      "Epoch 15/100\n",
      "17/17 [==============================] - 2s 106ms/step - loss: 1.3573 - accuracy: 0.5694 - val_loss: 1.3553 - val_accuracy: 0.5333\n",
      "Epoch 16/100\n",
      "17/17 [==============================] - 2s 106ms/step - loss: 1.3060 - accuracy: 0.5759 - val_loss: 1.3123 - val_accuracy: 0.5417\n",
      "Epoch 17/100\n",
      "17/17 [==============================] - 2s 107ms/step - loss: 1.2574 - accuracy: 0.5833 - val_loss: 1.2677 - val_accuracy: 0.5750\n",
      "Epoch 18/100\n",
      "17/17 [==============================] - 2s 106ms/step - loss: 1.2117 - accuracy: 0.5944 - val_loss: 1.2316 - val_accuracy: 0.5917\n",
      "Epoch 19/100\n",
      "17/17 [==============================] - 2s 106ms/step - loss: 1.1696 - accuracy: 0.6000 - val_loss: 1.1965 - val_accuracy: 0.5917\n",
      "Epoch 20/100\n",
      "17/17 [==============================] - 2s 106ms/step - loss: 1.1323 - accuracy: 0.6130 - val_loss: 1.1672 - val_accuracy: 0.6000\n",
      "Epoch 21/100\n",
      "17/17 [==============================] - 2s 106ms/step - loss: 1.0991 - accuracy: 0.6185 - val_loss: 1.1362 - val_accuracy: 0.6000\n",
      "Epoch 22/100\n",
      "17/17 [==============================] - 2s 107ms/step - loss: 1.0697 - accuracy: 0.6278 - val_loss: 1.1151 - val_accuracy: 0.6167\n",
      "Epoch 23/100\n",
      "17/17 [==============================] - 2s 106ms/step - loss: 1.0418 - accuracy: 0.6306 - val_loss: 1.0885 - val_accuracy: 0.6417\n",
      "Epoch 24/100\n",
      "17/17 [==============================] - 2s 111ms/step - loss: 1.0178 - accuracy: 0.6324 - val_loss: 1.0718 - val_accuracy: 0.6333\n",
      "Epoch 25/100\n",
      "17/17 [==============================] - 2s 106ms/step - loss: 0.9953 - accuracy: 0.6398 - val_loss: 1.0499 - val_accuracy: 0.6417\n",
      "Epoch 26/100\n",
      "17/17 [==============================] - 2s 107ms/step - loss: 0.9735 - accuracy: 0.6426 - val_loss: 1.0330 - val_accuracy: 0.6583\n",
      "Epoch 27/100\n",
      "17/17 [==============================] - 2s 106ms/step - loss: 0.9539 - accuracy: 0.6574 - val_loss: 1.0150 - val_accuracy: 0.6583\n",
      "Epoch 28/100\n",
      "17/17 [==============================] - 2s 106ms/step - loss: 0.9362 - accuracy: 0.6648 - val_loss: 0.9990 - val_accuracy: 0.6750\n",
      "Epoch 29/100\n",
      "17/17 [==============================] - 2s 101ms/step - loss: 0.9188 - accuracy: 0.6685 - val_loss: 0.9837 - val_accuracy: 0.6667\n",
      "Epoch 30/100\n",
      "17/17 [==============================] - 2s 106ms/step - loss: 0.9017 - accuracy: 0.6713 - val_loss: 0.9724 - val_accuracy: 0.6750\n",
      "Epoch 31/100\n",
      "17/17 [==============================] - 2s 107ms/step - loss: 0.8855 - accuracy: 0.6815 - val_loss: 0.9585 - val_accuracy: 0.6750\n",
      "Epoch 32/100\n",
      "17/17 [==============================] - 2s 107ms/step - loss: 0.8710 - accuracy: 0.6870 - val_loss: 0.9435 - val_accuracy: 0.6750\n",
      "Epoch 33/100\n",
      "17/17 [==============================] - 2s 107ms/step - loss: 0.8566 - accuracy: 0.6944 - val_loss: 0.9316 - val_accuracy: 0.6833\n",
      "Epoch 34/100\n",
      "17/17 [==============================] - 2s 106ms/step - loss: 0.8422 - accuracy: 0.7046 - val_loss: 0.9200 - val_accuracy: 0.6833\n",
      "Epoch 35/100\n",
      "17/17 [==============================] - 2s 106ms/step - loss: 0.8291 - accuracy: 0.7065 - val_loss: 0.9097 - val_accuracy: 0.6833\n",
      "Epoch 36/100\n",
      "17/17 [==============================] - 2s 112ms/step - loss: 0.8159 - accuracy: 0.7111 - val_loss: 0.8990 - val_accuracy: 0.6917\n",
      "Epoch 37/100\n",
      "17/17 [==============================] - 2s 106ms/step - loss: 0.8030 - accuracy: 0.7213 - val_loss: 0.8899 - val_accuracy: 0.6917\n",
      "Epoch 38/100\n",
      "17/17 [==============================] - 2s 106ms/step - loss: 0.7905 - accuracy: 0.7250 - val_loss: 0.8819 - val_accuracy: 0.6917\n",
      "Epoch 39/100\n",
      "17/17 [==============================] - 2s 106ms/step - loss: 0.7783 - accuracy: 0.7287 - val_loss: 0.8733 - val_accuracy: 0.6917\n",
      "Epoch 40/100\n",
      "17/17 [==============================] - 2s 107ms/step - loss: 0.7665 - accuracy: 0.7333 - val_loss: 0.8646 - val_accuracy: 0.6917\n",
      "Epoch 41/100\n",
      "17/17 [==============================] - 2s 106ms/step - loss: 0.7548 - accuracy: 0.7389 - val_loss: 0.8551 - val_accuracy: 0.6917\n",
      "Epoch 42/100\n",
      "17/17 [==============================] - 2s 106ms/step - loss: 0.7434 - accuracy: 0.7426 - val_loss: 0.8464 - val_accuracy: 0.6917\n",
      "Epoch 43/100\n",
      "17/17 [==============================] - 2s 111ms/step - loss: 0.7323 - accuracy: 0.7500 - val_loss: 0.8377 - val_accuracy: 0.6917\n",
      "Epoch 44/100\n",
      "17/17 [==============================] - 2s 112ms/step - loss: 0.7214 - accuracy: 0.7509 - val_loss: 0.8294 - val_accuracy: 0.6917\n",
      "Epoch 45/100\n",
      "17/17 [==============================] - 2s 106ms/step - loss: 0.7107 - accuracy: 0.7593 - val_loss: 0.8205 - val_accuracy: 0.6917\n",
      "Epoch 46/100\n",
      "17/17 [==============================] - 2s 111ms/step - loss: 0.7002 - accuracy: 0.7694 - val_loss: 0.8118 - val_accuracy: 0.7083\n",
      "Epoch 47/100\n",
      "17/17 [==============================] - 2s 111ms/step - loss: 0.6899 - accuracy: 0.7750 - val_loss: 0.8035 - val_accuracy: 0.7083\n",
      "Epoch 48/100\n",
      "17/17 [==============================] - 2s 106ms/step - loss: 0.6797 - accuracy: 0.7796 - val_loss: 0.7951 - val_accuracy: 0.7167\n",
      "Epoch 49/100\n",
      "17/17 [==============================] - 2s 106ms/step - loss: 0.6696 - accuracy: 0.7806 - val_loss: 0.7871 - val_accuracy: 0.7250\n",
      "Epoch 50/100\n",
      "17/17 [==============================] - 2s 107ms/step - loss: 0.6598 - accuracy: 0.7861 - val_loss: 0.7781 - val_accuracy: 0.7250\n",
      "Epoch 51/100\n",
      "17/17 [==============================] - 2s 106ms/step - loss: 0.6505 - accuracy: 0.7898 - val_loss: 0.7699 - val_accuracy: 0.7250\n",
      "Epoch 52/100\n",
      "17/17 [==============================] - 2s 111ms/step - loss: 0.6412 - accuracy: 0.7935 - val_loss: 0.7613 - val_accuracy: 0.7417\n",
      "Epoch 53/100\n",
      "17/17 [==============================] - 2s 111ms/step - loss: 0.6320 - accuracy: 0.7972 - val_loss: 0.7535 - val_accuracy: 0.7417\n",
      "Epoch 54/100\n",
      "17/17 [==============================] - 2s 111ms/step - loss: 0.6232 - accuracy: 0.8028 - val_loss: 0.7460 - val_accuracy: 0.7417\n",
      "Epoch 55/100\n",
      "17/17 [==============================] - 2s 106ms/step - loss: 0.6145 - accuracy: 0.8074 - val_loss: 0.7391 - val_accuracy: 0.7417\n",
      "Epoch 56/100\n",
      "17/17 [==============================] - 2s 106ms/step - loss: 0.6059 - accuracy: 0.8083 - val_loss: 0.7318 - val_accuracy: 0.7417\n",
      "Epoch 57/100\n",
      "17/17 [==============================] - 2s 106ms/step - loss: 0.5975 - accuracy: 0.8111 - val_loss: 0.7242 - val_accuracy: 0.7500\n",
      "Epoch 58/100\n",
      "17/17 [==============================] - 2s 111ms/step - loss: 0.5894 - accuracy: 0.8167 - val_loss: 0.7175 - val_accuracy: 0.7500\n",
      "Epoch 59/100\n",
      "17/17 [==============================] - 2s 111ms/step - loss: 0.5813 - accuracy: 0.8204 - val_loss: 0.7097 - val_accuracy: 0.7500\n",
      "Epoch 60/100\n",
      "17/17 [==============================] - 2s 107ms/step - loss: 0.5736 - accuracy: 0.8222 - val_loss: 0.7027 - val_accuracy: 0.7500\n",
      "Epoch 61/100\n",
      "17/17 [==============================] - 2s 106ms/step - loss: 0.5659 - accuracy: 0.8250 - val_loss: 0.6960 - val_accuracy: 0.7500\n",
      "Epoch 62/100\n",
      "17/17 [==============================] - 2s 111ms/step - loss: 0.5581 - accuracy: 0.8269 - val_loss: 0.6881 - val_accuracy: 0.7500\n",
      "Epoch 63/100\n",
      "17/17 [==============================] - 2s 111ms/step - loss: 0.5511 - accuracy: 0.8278 - val_loss: 0.6810 - val_accuracy: 0.7667\n",
      "Epoch 64/100\n",
      "17/17 [==============================] - 2s 106ms/step - loss: 0.5440 - accuracy: 0.8278 - val_loss: 0.6744 - val_accuracy: 0.7750\n",
      "Epoch 65/100\n",
      "17/17 [==============================] - 2s 106ms/step - loss: 0.5371 - accuracy: 0.8296 - val_loss: 0.6677 - val_accuracy: 0.7833\n",
      "Epoch 66/100\n",
      "17/17 [==============================] - 2s 111ms/step - loss: 0.5302 - accuracy: 0.8333 - val_loss: 0.6616 - val_accuracy: 0.7917\n",
      "Epoch 67/100\n",
      "17/17 [==============================] - 2s 111ms/step - loss: 0.5236 - accuracy: 0.8343 - val_loss: 0.6554 - val_accuracy: 0.7917\n",
      "Epoch 68/100\n",
      "17/17 [==============================] - 2s 106ms/step - loss: 0.5169 - accuracy: 0.8380 - val_loss: 0.6495 - val_accuracy: 0.7917\n",
      "Epoch 69/100\n",
      "17/17 [==============================] - 2s 106ms/step - loss: 0.5102 - accuracy: 0.8389 - val_loss: 0.6429 - val_accuracy: 0.7917\n",
      "Epoch 70/100\n",
      "17/17 [==============================] - 2s 112ms/step - loss: 0.5039 - accuracy: 0.8435 - val_loss: 0.6365 - val_accuracy: 0.8000\n",
      "Epoch 71/100\n",
      "17/17 [==============================] - 2s 107ms/step - loss: 0.4976 - accuracy: 0.8435 - val_loss: 0.6303 - val_accuracy: 0.8000\n",
      "Epoch 72/100\n",
      "17/17 [==============================] - 2s 106ms/step - loss: 0.4915 - accuracy: 0.8472 - val_loss: 0.6241 - val_accuracy: 0.7917\n",
      "Epoch 73/100\n",
      "17/17 [==============================] - 2s 106ms/step - loss: 0.4856 - accuracy: 0.8509 - val_loss: 0.6181 - val_accuracy: 0.7917\n",
      "Epoch 74/100\n",
      "17/17 [==============================] - 2s 111ms/step - loss: 0.4795 - accuracy: 0.8556 - val_loss: 0.6119 - val_accuracy: 0.7917\n",
      "Epoch 75/100\n",
      "17/17 [==============================] - 2s 107ms/step - loss: 0.4737 - accuracy: 0.8611 - val_loss: 0.6062 - val_accuracy: 0.7917\n",
      "Epoch 76/100\n",
      "17/17 [==============================] - 2s 106ms/step - loss: 0.4684 - accuracy: 0.8602 - val_loss: 0.6005 - val_accuracy: 0.8000\n",
      "Epoch 77/100\n",
      "17/17 [==============================] - 2s 106ms/step - loss: 0.4629 - accuracy: 0.8593 - val_loss: 0.5949 - val_accuracy: 0.8000\n",
      "Epoch 78/100\n",
      "17/17 [==============================] - 2s 111ms/step - loss: 0.4574 - accuracy: 0.8611 - val_loss: 0.5893 - val_accuracy: 0.8000\n",
      "Epoch 79/100\n",
      "17/17 [==============================] - 2s 107ms/step - loss: 0.4522 - accuracy: 0.8630 - val_loss: 0.5840 - val_accuracy: 0.8083\n",
      "Epoch 80/100\n",
      "17/17 [==============================] - 2s 106ms/step - loss: 0.4468 - accuracy: 0.8648 - val_loss: 0.5790 - val_accuracy: 0.8083\n",
      "Epoch 81/100\n",
      "17/17 [==============================] - 2s 111ms/step - loss: 0.4419 - accuracy: 0.8667 - val_loss: 0.5740 - val_accuracy: 0.8083\n",
      "Epoch 82/100\n",
      "17/17 [==============================] - 2s 107ms/step - loss: 0.4368 - accuracy: 0.8685 - val_loss: 0.5691 - val_accuracy: 0.8167\n",
      "Epoch 83/100\n",
      "17/17 [==============================] - 2s 106ms/step - loss: 0.4319 - accuracy: 0.8704 - val_loss: 0.5643 - val_accuracy: 0.8167\n",
      "Epoch 84/100\n",
      "17/17 [==============================] - 2s 106ms/step - loss: 0.4269 - accuracy: 0.8722 - val_loss: 0.5595 - val_accuracy: 0.8250\n",
      "Epoch 85/100\n",
      "17/17 [==============================] - 2s 107ms/step - loss: 0.4220 - accuracy: 0.8731 - val_loss: 0.5543 - val_accuracy: 0.8250\n",
      "Epoch 86/100\n",
      "17/17 [==============================] - 2s 106ms/step - loss: 0.4174 - accuracy: 0.8741 - val_loss: 0.5502 - val_accuracy: 0.8250\n",
      "Epoch 87/100\n",
      "17/17 [==============================] - 2s 112ms/step - loss: 0.4127 - accuracy: 0.8769 - val_loss: 0.5458 - val_accuracy: 0.8333\n",
      "Epoch 88/100\n",
      "17/17 [==============================] - 2s 111ms/step - loss: 0.4085 - accuracy: 0.8778 - val_loss: 0.5420 - val_accuracy: 0.8333\n",
      "Epoch 89/100\n",
      "17/17 [==============================] - 2s 106ms/step - loss: 0.4038 - accuracy: 0.8778 - val_loss: 0.5377 - val_accuracy: 0.8333\n",
      "Epoch 90/100\n",
      "17/17 [==============================] - 2s 106ms/step - loss: 0.3994 - accuracy: 0.8787 - val_loss: 0.5337 - val_accuracy: 0.8333\n",
      "Epoch 91/100\n",
      "17/17 [==============================] - 2s 106ms/step - loss: 0.3951 - accuracy: 0.8806 - val_loss: 0.5300 - val_accuracy: 0.8333\n",
      "Epoch 92/100\n",
      "17/17 [==============================] - 2s 106ms/step - loss: 0.3911 - accuracy: 0.8824 - val_loss: 0.5259 - val_accuracy: 0.8333\n",
      "Epoch 93/100\n",
      "17/17 [==============================] - 2s 111ms/step - loss: 0.3868 - accuracy: 0.8833 - val_loss: 0.5218 - val_accuracy: 0.8333\n",
      "Epoch 94/100\n",
      "17/17 [==============================] - 2s 106ms/step - loss: 0.3825 - accuracy: 0.8852 - val_loss: 0.5180 - val_accuracy: 0.8333\n",
      "Epoch 95/100\n",
      "17/17 [==============================] - 2s 106ms/step - loss: 0.3786 - accuracy: 0.8852 - val_loss: 0.5145 - val_accuracy: 0.8333\n",
      "Epoch 96/100\n",
      "17/17 [==============================] - 2s 106ms/step - loss: 0.3748 - accuracy: 0.8861 - val_loss: 0.5107 - val_accuracy: 0.8417\n",
      "Epoch 97/100\n",
      "17/17 [==============================] - 2s 107ms/step - loss: 0.3709 - accuracy: 0.8870 - val_loss: 0.5072 - val_accuracy: 0.8417\n",
      "Epoch 98/100\n",
      "17/17 [==============================] - 2s 106ms/step - loss: 0.3667 - accuracy: 0.8889 - val_loss: 0.5033 - val_accuracy: 0.8417\n",
      "Epoch 99/100\n",
      "17/17 [==============================] - 2s 111ms/step - loss: 0.3629 - accuracy: 0.8907 - val_loss: 0.5001 - val_accuracy: 0.8417\n",
      "Epoch 100/100\n",
      "17/17 [==============================] - 2s 106ms/step - loss: 0.3592 - accuracy: 0.8917 - val_loss: 0.4965 - val_accuracy: 0.8417\n"
     ]
    }
   ],
   "source": [
    "train_dataset = tf.data.Dataset.from_tensor_slices((X_train, Y_train)).batch(64)\n",
    "test_dataset = tf.data.Dataset.from_tensor_slices((X_test, Y_test)).batch(64)\n",
    "history = conv_model.fit(train_dataset, epochs=100, validation_data=test_dataset)"
   ]
  },
  {
   "cell_type": "markdown",
   "metadata": {},
   "source": [
    "<a name='5'></a>\n",
    "## 5 - History Object \n",
    "\n",
    "The history object is an output of the `.fit()` operation, and provides a record of all the loss and metric values in memory. It's stored as a dictionary that you can retrieve at `history.history`: "
   ]
  },
  {
   "cell_type": "code",
   "execution_count": 50,
   "metadata": {},
   "outputs": [
    {
     "data": {
      "text/plain": [
       "{'loss': [1.7966147661209106,\n",
       "  1.7874977588653564,\n",
       "  1.7804574966430664,\n",
       "  1.7715630531311035,\n",
       "  1.7584894895553589,\n",
       "  1.7432571649551392,\n",
       "  1.7234323024749756,\n",
       "  1.6994346380233765,\n",
       "  1.667036771774292,\n",
       "  1.6232560873031616,\n",
       "  1.5739635229110718,\n",
       "  1.5231108665466309,\n",
       "  1.4685351848602295,\n",
       "  1.4109793901443481,\n",
       "  1.3573039770126343,\n",
       "  1.3059639930725098,\n",
       "  1.2573860883712769,\n",
       "  1.2116984128952026,\n",
       "  1.1695826053619385,\n",
       "  1.1323078870773315,\n",
       "  1.099083662033081,\n",
       "  1.069746732711792,\n",
       "  1.0418375730514526,\n",
       "  1.0178155899047852,\n",
       "  0.9952532649040222,\n",
       "  0.9734663367271423,\n",
       "  0.9538848996162415,\n",
       "  0.9361683130264282,\n",
       "  0.9187595248222351,\n",
       "  0.9016674160957336,\n",
       "  0.8855308294296265,\n",
       "  0.871036946773529,\n",
       "  0.8565757870674133,\n",
       "  0.8422279953956604,\n",
       "  0.829063355922699,\n",
       "  0.8159033060073853,\n",
       "  0.8029899597167969,\n",
       "  0.7904733419418335,\n",
       "  0.7782809734344482,\n",
       "  0.7665066123008728,\n",
       "  0.7547603845596313,\n",
       "  0.7434362173080444,\n",
       "  0.7323439121246338,\n",
       "  0.7213724255561829,\n",
       "  0.7106583714485168,\n",
       "  0.7002034187316895,\n",
       "  0.6899333596229553,\n",
       "  0.6796551942825317,\n",
       "  0.6695899963378906,\n",
       "  0.6598058938980103,\n",
       "  0.6505300998687744,\n",
       "  0.6411995887756348,\n",
       "  0.6320427656173706,\n",
       "  0.6232483983039856,\n",
       "  0.61445152759552,\n",
       "  0.6059179306030273,\n",
       "  0.5974901914596558,\n",
       "  0.5894237756729126,\n",
       "  0.5812933444976807,\n",
       "  0.5736091136932373,\n",
       "  0.5659074783325195,\n",
       "  0.5580648183822632,\n",
       "  0.5511493682861328,\n",
       "  0.5440443754196167,\n",
       "  0.5370517373085022,\n",
       "  0.5301582217216492,\n",
       "  0.523583173751831,\n",
       "  0.5168533325195312,\n",
       "  0.5101796388626099,\n",
       "  0.503850519657135,\n",
       "  0.497639000415802,\n",
       "  0.49150633811950684,\n",
       "  0.48556065559387207,\n",
       "  0.47950688004493713,\n",
       "  0.4737239480018616,\n",
       "  0.46841946244239807,\n",
       "  0.46286818385124207,\n",
       "  0.4574073255062103,\n",
       "  0.4522223174571991,\n",
       "  0.4468243718147278,\n",
       "  0.44186365604400635,\n",
       "  0.4368003010749817,\n",
       "  0.4318614602088928,\n",
       "  0.42692968249320984,\n",
       "  0.421976774930954,\n",
       "  0.4174172878265381,\n",
       "  0.41274482011795044,\n",
       "  0.4085024893283844,\n",
       "  0.4037806987762451,\n",
       "  0.3994460701942444,\n",
       "  0.3950849175453186,\n",
       "  0.39112839102745056,\n",
       "  0.3867889642715454,\n",
       "  0.382534384727478,\n",
       "  0.3785566985607147,\n",
       "  0.374779611825943,\n",
       "  0.37092289328575134,\n",
       "  0.3667427897453308,\n",
       "  0.3629196882247925,\n",
       "  0.35923776030540466],\n",
       " 'accuracy': [0.1805555522441864,\n",
       "  0.17314815521240234,\n",
       "  0.20462962985038757,\n",
       "  0.24537037312984467,\n",
       "  0.31296294927597046,\n",
       "  0.37037035822868347,\n",
       "  0.3888888955116272,\n",
       "  0.4342592656612396,\n",
       "  0.45277777314186096,\n",
       "  0.49259260296821594,\n",
       "  0.5009258985519409,\n",
       "  0.5212963223457336,\n",
       "  0.5351851582527161,\n",
       "  0.5546296238899231,\n",
       "  0.5694444179534912,\n",
       "  0.5759259462356567,\n",
       "  0.5833333134651184,\n",
       "  0.5944444537162781,\n",
       "  0.6000000238418579,\n",
       "  0.6129629611968994,\n",
       "  0.6185185313224792,\n",
       "  0.6277777552604675,\n",
       "  0.6305555701255798,\n",
       "  0.6324074268341064,\n",
       "  0.6398147940635681,\n",
       "  0.6425926089286804,\n",
       "  0.6574074029922485,\n",
       "  0.664814829826355,\n",
       "  0.6685185432434082,\n",
       "  0.6712962985038757,\n",
       "  0.6814814805984497,\n",
       "  0.6870370507240295,\n",
       "  0.6944444179534912,\n",
       "  0.7046296000480652,\n",
       "  0.7064814567565918,\n",
       "  0.7111111283302307,\n",
       "  0.7212963104248047,\n",
       "  0.7250000238418579,\n",
       "  0.7287036776542664,\n",
       "  0.7333333492279053,\n",
       "  0.7388888597488403,\n",
       "  0.7425925731658936,\n",
       "  0.75,\n",
       "  0.7509258985519409,\n",
       "  0.7592592835426331,\n",
       "  0.769444465637207,\n",
       "  0.7749999761581421,\n",
       "  0.779629647731781,\n",
       "  0.7805555462837219,\n",
       "  0.7861111164093018,\n",
       "  0.789814829826355,\n",
       "  0.7935185432434082,\n",
       "  0.7972221970558167,\n",
       "  0.8027777671813965,\n",
       "  0.8074073791503906,\n",
       "  0.8083333373069763,\n",
       "  0.8111110925674438,\n",
       "  0.8166666626930237,\n",
       "  0.8203703761100769,\n",
       "  0.8222222328186035,\n",
       "  0.824999988079071,\n",
       "  0.8268518447875977,\n",
       "  0.8277778029441833,\n",
       "  0.8277778029441833,\n",
       "  0.8296296000480652,\n",
       "  0.8333333134651184,\n",
       "  0.8342592716217041,\n",
       "  0.8379629850387573,\n",
       "  0.8388888835906982,\n",
       "  0.8435184955596924,\n",
       "  0.8435184955596924,\n",
       "  0.8472222089767456,\n",
       "  0.8509259223937988,\n",
       "  0.855555534362793,\n",
       "  0.8611111044883728,\n",
       "  0.8601852059364319,\n",
       "  0.8592592477798462,\n",
       "  0.8611111044883728,\n",
       "  0.8629629611968994,\n",
       "  0.864814817905426,\n",
       "  0.8666666746139526,\n",
       "  0.8685185313224792,\n",
       "  0.8703703880310059,\n",
       "  0.8722222447395325,\n",
       "  0.8731481432914734,\n",
       "  0.8740741014480591,\n",
       "  0.8768518567085266,\n",
       "  0.8777777552604675,\n",
       "  0.8777777552604675,\n",
       "  0.8787037134170532,\n",
       "  0.8805555701255798,\n",
       "  0.8824074268341064,\n",
       "  0.8833333253860474,\n",
       "  0.885185182094574,\n",
       "  0.885185182094574,\n",
       "  0.8861111402511597,\n",
       "  0.8870370388031006,\n",
       "  0.8888888955116272,\n",
       "  0.8907407522201538,\n",
       "  0.8916666507720947],\n",
       " 'val_loss': [1.788817286491394,\n",
       "  1.784006953239441,\n",
       "  1.7762329578399658,\n",
       "  1.7663427591323853,\n",
       "  1.751969575881958,\n",
       "  1.7341797351837158,\n",
       "  1.7128452062606812,\n",
       "  1.6856513023376465,\n",
       "  1.6486955881118774,\n",
       "  1.6052608489990234,\n",
       "  1.5576006174087524,\n",
       "  1.508344292640686,\n",
       "  1.4542241096496582,\n",
       "  1.4052938222885132,\n",
       "  1.3553415536880493,\n",
       "  1.312279224395752,\n",
       "  1.2677404880523682,\n",
       "  1.2315661907196045,\n",
       "  1.1965372562408447,\n",
       "  1.1672253608703613,\n",
       "  1.1361877918243408,\n",
       "  1.1150654554367065,\n",
       "  1.088541030883789,\n",
       "  1.0718387365341187,\n",
       "  1.0499022006988525,\n",
       "  1.0329995155334473,\n",
       "  1.015049695968628,\n",
       "  0.9990236163139343,\n",
       "  0.9837005138397217,\n",
       "  0.9723730683326721,\n",
       "  0.9585365056991577,\n",
       "  0.9435077905654907,\n",
       "  0.9315569400787354,\n",
       "  0.9199545979499817,\n",
       "  0.909749448299408,\n",
       "  0.8989778161048889,\n",
       "  0.889928936958313,\n",
       "  0.8818628787994385,\n",
       "  0.8732755184173584,\n",
       "  0.8645560145378113,\n",
       "  0.8550957441329956,\n",
       "  0.8464285135269165,\n",
       "  0.8376636505126953,\n",
       "  0.8293572664260864,\n",
       "  0.8204739689826965,\n",
       "  0.811782717704773,\n",
       "  0.8035038709640503,\n",
       "  0.7950698137283325,\n",
       "  0.7870577573776245,\n",
       "  0.7780992388725281,\n",
       "  0.7699351906776428,\n",
       "  0.7613106369972229,\n",
       "  0.7535309195518494,\n",
       "  0.7459927797317505,\n",
       "  0.7390969395637512,\n",
       "  0.73177170753479,\n",
       "  0.7242152094841003,\n",
       "  0.7174831032752991,\n",
       "  0.7096713781356812,\n",
       "  0.7027480602264404,\n",
       "  0.6959893703460693,\n",
       "  0.6880561113357544,\n",
       "  0.68099045753479,\n",
       "  0.6743838787078857,\n",
       "  0.6677194833755493,\n",
       "  0.6616162657737732,\n",
       "  0.6553661823272705,\n",
       "  0.6494783759117126,\n",
       "  0.6429361701011658,\n",
       "  0.6364709138870239,\n",
       "  0.6303451657295227,\n",
       "  0.6241399645805359,\n",
       "  0.6180746555328369,\n",
       "  0.6119470000267029,\n",
       "  0.606194794178009,\n",
       "  0.6004563570022583,\n",
       "  0.594896137714386,\n",
       "  0.5892860293388367,\n",
       "  0.584014356136322,\n",
       "  0.5789653062820435,\n",
       "  0.574047863483429,\n",
       "  0.5691031217575073,\n",
       "  0.5643168091773987,\n",
       "  0.5594697594642639,\n",
       "  0.5542630553245544,\n",
       "  0.5501819252967834,\n",
       "  0.5458205938339233,\n",
       "  0.5420215725898743,\n",
       "  0.5376737117767334,\n",
       "  0.533717155456543,\n",
       "  0.529991626739502,\n",
       "  0.5259376168251038,\n",
       "  0.5217632055282593,\n",
       "  0.5180068612098694,\n",
       "  0.5145158767700195,\n",
       "  0.5106679201126099,\n",
       "  0.5071676969528198,\n",
       "  0.503254234790802,\n",
       "  0.5000702142715454,\n",
       "  0.4964550733566284],\n",
       " 'val_accuracy': [0.15833333134651184,\n",
       "  0.19166666269302368,\n",
       "  0.20000000298023224,\n",
       "  0.28333333134651184,\n",
       "  0.2750000059604645,\n",
       "  0.34166666865348816,\n",
       "  0.3916666805744171,\n",
       "  0.42500001192092896,\n",
       "  0.4333333373069763,\n",
       "  0.4833333194255829,\n",
       "  0.5,\n",
       "  0.5249999761581421,\n",
       "  0.5333333611488342,\n",
       "  0.5166666507720947,\n",
       "  0.5333333611488342,\n",
       "  0.5416666865348816,\n",
       "  0.574999988079071,\n",
       "  0.5916666388511658,\n",
       "  0.5916666388511658,\n",
       "  0.6000000238418579,\n",
       "  0.6000000238418579,\n",
       "  0.6166666746139526,\n",
       "  0.6416666507720947,\n",
       "  0.6333333253860474,\n",
       "  0.6416666507720947,\n",
       "  0.6583333611488342,\n",
       "  0.6583333611488342,\n",
       "  0.675000011920929,\n",
       "  0.6666666865348816,\n",
       "  0.675000011920929,\n",
       "  0.675000011920929,\n",
       "  0.675000011920929,\n",
       "  0.6833333373069763,\n",
       "  0.6833333373069763,\n",
       "  0.6833333373069763,\n",
       "  0.6916666626930237,\n",
       "  0.6916666626930237,\n",
       "  0.6916666626930237,\n",
       "  0.6916666626930237,\n",
       "  0.6916666626930237,\n",
       "  0.6916666626930237,\n",
       "  0.6916666626930237,\n",
       "  0.6916666626930237,\n",
       "  0.6916666626930237,\n",
       "  0.6916666626930237,\n",
       "  0.7083333134651184,\n",
       "  0.7083333134651184,\n",
       "  0.7166666388511658,\n",
       "  0.7250000238418579,\n",
       "  0.7250000238418579,\n",
       "  0.7250000238418579,\n",
       "  0.7416666746139526,\n",
       "  0.7416666746139526,\n",
       "  0.7416666746139526,\n",
       "  0.7416666746139526,\n",
       "  0.7416666746139526,\n",
       "  0.75,\n",
       "  0.75,\n",
       "  0.75,\n",
       "  0.75,\n",
       "  0.75,\n",
       "  0.75,\n",
       "  0.7666666507720947,\n",
       "  0.7749999761581421,\n",
       "  0.7833333611488342,\n",
       "  0.7916666865348816,\n",
       "  0.7916666865348816,\n",
       "  0.7916666865348816,\n",
       "  0.7916666865348816,\n",
       "  0.800000011920929,\n",
       "  0.800000011920929,\n",
       "  0.7916666865348816,\n",
       "  0.7916666865348816,\n",
       "  0.7916666865348816,\n",
       "  0.7916666865348816,\n",
       "  0.800000011920929,\n",
       "  0.800000011920929,\n",
       "  0.800000011920929,\n",
       "  0.8083333373069763,\n",
       "  0.8083333373069763,\n",
       "  0.8083333373069763,\n",
       "  0.8166666626930237,\n",
       "  0.8166666626930237,\n",
       "  0.824999988079071,\n",
       "  0.824999988079071,\n",
       "  0.824999988079071,\n",
       "  0.8333333134651184,\n",
       "  0.8333333134651184,\n",
       "  0.8333333134651184,\n",
       "  0.8333333134651184,\n",
       "  0.8333333134651184,\n",
       "  0.8333333134651184,\n",
       "  0.8333333134651184,\n",
       "  0.8333333134651184,\n",
       "  0.8333333134651184,\n",
       "  0.8416666388511658,\n",
       "  0.8416666388511658,\n",
       "  0.8416666388511658,\n",
       "  0.8416666388511658,\n",
       "  0.8416666388511658]}"
      ]
     },
     "execution_count": 50,
     "metadata": {},
     "output_type": "execute_result"
    }
   ],
   "source": [
    "history.history"
   ]
  },
  {
   "cell_type": "markdown",
   "metadata": {},
   "source": [
    "Now visualize the loss over time using `history.history`: "
   ]
  },
  {
   "cell_type": "code",
   "execution_count": 51,
   "metadata": {},
   "outputs": [
    {
     "data": {
      "text/plain": [
       "[Text(0, 0.5, 'Accuracy'), Text(0.5, 0, 'Epoch')]"
      ]
     },
     "execution_count": 51,
     "metadata": {},
     "output_type": "execute_result"
    },
    {
     "data": {
      "image/png": "[encoded data removed]",
      "text/plain": [
       "<Figure size 864x576 with 1 Axes>"
      ]
     },
     "metadata": {
      "needs_background": "light"
     },
     "output_type": "display_data"
    },
    {
     "data": {
      "image/png": "[encoded data removed]",
      "text/plain": [
       "<Figure size 864x576 with 1 Axes>"
      ]
     },
     "metadata": {
      "needs_background": "light"
     },
     "output_type": "display_data"
    }
   ],
   "source": [
    "# The history.history[\"loss\"] entry is a dictionary with as many values as epochs that the\n",
    "# model was trained on. \n",
    "df_loss_acc = pd.DataFrame(history.history)\n",
    "df_loss= df_loss_acc[['loss','val_loss']]\n",
    "df_loss.rename(columns={'loss':'train','val_loss':'validation'},inplace=True)\n",
    "df_acc= df_loss_acc[['accuracy','val_accuracy']]\n",
    "df_acc.rename(columns={'accuracy':'train','val_accuracy':'validation'},inplace=True)\n",
    "df_loss.plot(title='Model loss',figsize=(12,8)).set(xlabel='Epoch',ylabel='Loss')\n",
    "df_acc.plot(title='Model Accuracy',figsize=(12,8)).set(xlabel='Epoch',ylabel='Accuracy')"
   ]
  },
  {
   "cell_type": "markdown",
   "metadata": {},
   "source": [
    "**Congratulations**! You've finished the assignment and built two models: One that recognizes  smiles, and another that recognizes SIGN language with almost 80% accuracy on the test set. In addition to that, you now also understand the applications of two Keras APIs: Sequential and Functional. Nicely done! \n",
    "\n",
    "By now, you know a bit about how the Functional API works and may have glimpsed the possibilities. In your next assignment, you'll really get a feel for its power when you get the opportunity to build a very deep ConvNet, using ResNets! "
   ]
  },
  {
   "cell_type": "markdown",
   "metadata": {},
   "source": [
    "<a name='6'></a>\n",
    "## 6 - Bibliography\n",
    "\n",
    "You're always encouraged to read the official documentation. To that end, you can find the docs for the Sequential and Functional APIs here: \n",
    "\n",
    "https://www.tensorflow.org/guide/keras/sequential_model\n",
    "\n",
    "https://www.tensorflow.org/guide/keras/functional"
   ]
  }
 ],
 "metadata": {
  "coursera": {
   "course_slug": "convolutional-neural-networks",
   "graded_item_id": "bwbJV",
   "launcher_item_id": "0TkXB"
  },
  "kernelspec": {
   "display_name": "Python 3",
   "language": "python",
   "name": "python3"
  },
  "language_info": {
   "codemirror_mode": {
    "name": "ipython",
    "version": 3
   },
   "file_extension": ".py",
   "mimetype": "text/x-python",
   "name": "python",
   "nbconvert_exporter": "python",
   "pygments_lexer": "ipython3",
   "version": "3.7.6"
  }
 },
 "nbformat": 4,
 "nbformat_minor": 2
}
