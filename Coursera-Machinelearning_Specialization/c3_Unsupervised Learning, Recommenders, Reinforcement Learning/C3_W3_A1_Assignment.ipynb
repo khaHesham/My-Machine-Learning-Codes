{
 "cells": [
  {
   "cell_type": "markdown",
   "metadata": {},
   "source": [
    "# Deep Q-Learning - Lunar Lander\n",
    "\n",
    "In this assignment, you will train an agent to land a lunar lander safely on a landing pad on the surface of the moon.\n",
    "\n",
    "\n",
    "# Outline\n",
    "- [ 1 - Import Packages <img align=\"Right\" src=\"./images/lunar_lander.gif\" width = 60% >](#1)\n",
    "- [ 2 - Hyperparameters](#2)\n",
    "- [ 3 - The Lunar Lander Environment](#3)\n",
    "  - [ 3.1 Action Space](#3.1)\n",
    "  - [ 3.2 Observation Space](#3.2)\n",
    "  - [ 3.3 Rewards](#3.3)\n",
    "  - [ 3.4 Episode Termination](#3.4)\n",
    "- [ 4 - Load the Environment](#4)\n",
    "- [ 5 - Interacting with the Gym Environment](#5)\n",
    "    - [ 5.1 Exploring the Environment's Dynamics](#5.1)\n",
    "- [ 6 - Deep Q-Learning](#6)\n",
    "  - [ 6.1 Target Network](#6.1)\n",
    "    - [ Exercise 1](#ex01)\n",
    "  - [ 6.2 Experience Replay](#6.2)\n",
    "- [ 7 - Deep Q-Learning Algorithm with Experience Replay](#7)\n",
    "  - [ Exercise 2](#ex02)\n",
    "- [ 8 - Update the Network Weights](#8)\n",
    "- [ 9 - Train the Agent](#9)\n",
    "- [ 10 - See the Trained Agent In Action](#10)\n",
    "- [ 11 - Congratulations!](#11)\n",
    "- [ 12 - References](#12)\n"
   ]
  },
  {
   "cell_type": "markdown",
   "metadata": {},
   "source": [
    "<a name=\"1\"></a>\n",
    "## 1 - Import Packages\n",
    "\n",
    "We'll make use of the following packages:\n",
    "- `numpy` is a package for scientific computing in python.\n",
    "- `deque` will be our data structure for our memory buffer.\n",
    "- `namedtuple` will be used to store the experience tuples.\n",
    "- The `gym` toolkit is a collection of environments that can be used to test reinforcement learning algorithms. We should note that in this notebook we are using `gym` version `0.24.0`.\n",
    "- `PIL.Image` and `pyvirtualdisplay` are needed to render the Lunar Lander environment.\n",
    "- We will use several modules from the `tensorflow.keras` framework for building deep learning models.\n",
    "- `utils` is a module that contains helper functions for this assignment. You do not need to modify the code in this file.\n",
    "\n",
    "Run the cell below to import all the necessary packages."
   ]
  },
  {
   "cell_type": "code",
   "execution_count": 1,
   "metadata": {
    "id": "KYbOPKRtfQOr"
   },
   "outputs": [],
   "source": [
    "import time\n",
    "from collections import deque, namedtuple\n",
    "\n",
    "import gym\n",
    "import numpy as np\n",
    "import PIL.Image\n",
    "import tensorflow as tf\n",
    "import utils\n",
    "\n",
    "from pyvirtualdisplay import Display\n",
    "from tensorflow.keras import Sequential\n",
    "from tensorflow.keras.layers import Dense, Input\n",
    "from tensorflow.keras.losses import MSE\n",
    "from tensorflow.keras.optimizers import Adam"
   ]
  },
  {
   "cell_type": "code",
   "execution_count": 2,
   "metadata": {},
   "outputs": [],
   "source": [
    "# Set up a virtual display to render the Lunar Lander environment.\n",
    "Display(visible=0, size=(840, 480)).start();\n",
    "\n",
    "# Set the random seed for TensorFlow\n",
    "tf.random.set_seed(utils.SEED)"
   ]
  },
  {
   "cell_type": "markdown",
   "metadata": {},
   "source": [
    "<a name=\"2\"></a>\n",
    "## 2 - Hyperparameters\n",
    "\n",
    "Run the cell below to set the hyperparameters."
   ]
  },
  {
   "cell_type": "code",
   "execution_count": 3,
   "metadata": {},
   "outputs": [],
   "source": [
    "MEMORY_SIZE = 100_000     # size of memory buffer\n",
    "GAMMA = 0.995             # discount factor\n",
    "ALPHA = 1e-3              # learning rate  \n",
    "NUM_STEPS_FOR_UPDATE = 4  # perform a learning update every C time steps"
   ]
  },
  {
   "cell_type": "markdown",
   "metadata": {},
   "source": [
    "<a name=\"3\"></a>\n",
    "## 3 - The Lunar Lander Environment\n",
    "\n",
    "In this notebook we will be using [OpenAI's Gym Library](https://www.gymlibrary.ml/). The Gym library provides a wide variety of environments for reinforcement learning. To put it simply, an environment represents a problem or task to be solved. In this notebook, we will try to solve the Lunar Lander environment using reinforcement learning.\n",
    "\n",
    "The goal of the Lunar Lander environment is to land the lunar lander safely on the landing pad on the surface of the moon. The landing pad is designated by two flag poles and it is always at coordinates `(0,0)` but the lander is also allowed to land outside of the landing pad. The lander starts at the top center of the environment with a random initial force applied to its center of mass and has infinite fuel. The environment is considered solved if you get `200` points. \n",
    "\n",
    "<br>\n",
    "<br>\n",
    "<figure>\n",
    "  <img src = \"images/lunar_lander.gif\" width = 40%>\n",
    "      <figcaption style = \"text-align: center; font-style: italic\">Fig 1. Lunar Lander Environment.</figcaption>\n",
    "</figure>\n",
    "\n",
    "\n",
    "\n",
    "<a name=\"3.1\"></a>\n",
    "### 3.1 Action Space\n",
    "\n",
    "The agent has four discrete actions available:\n",
    "\n",
    "* Do nothing.\n",
    "* Fire right engine.\n",
    "* Fire main engine.\n",
    "* Fire left engine.\n",
    "\n",
    "Each action has a corresponding numerical value:\n",
    "\n",
    "```python\n",
    "Do nothing = 0\n",
    "Fire right engine = 1\n",
    "Fire main engine = 2\n",
    "Fire left engine = 3\n",
    "```\n",
    "\n",
    "<a name=\"3.2\"></a>\n",
    "### 3.2 Observation Space\n",
    "\n",
    "The agent's observation space consists of a state vector with 8 variables:\n",
    "\n",
    "* Its $(x,y)$ coordinates. The landing pad is always at coordinates $(0,0)$.\n",
    "* Its linear velocities $(\\dot x,\\dot y)$.\n",
    "* Its angle $\\theta$.\n",
    "* Its angular velocity $\\dot \\theta$.\n",
    "* Two booleans, $l$ and $r$, that represent whether each leg is in contact with the ground or not.\n",
    "\n",
    "<a name=\"3.3\"></a>\n",
    "### 3.3 Rewards\n",
    "\n",
    "The Lunar Lander environment has the following reward system:\n",
    "\n",
    "* Landing on the landing pad and coming to rest is about 100-140 points.\n",
    "* If the lander moves away from the landing pad, it loses reward. \n",
    "* If the lander crashes, it receives -100 points.\n",
    "* If the lander comes to rest, it receives +100 points.\n",
    "* Each leg with ground contact is +10 points.\n",
    "* Firing the main engine is -0.3 points each frame.\n",
    "* Firing the side engine is -0.03 points each frame.\n",
    "\n",
    "<a name=\"3.4\"></a>\n",
    "### 3.4 Episode Termination\n",
    "\n",
    "An episode ends (i.e the environment enters a terminal state) if:\n",
    "\n",
    "* The lunar lander crashes (i.e if the body of the lunar lander comes in contact with the surface of the moon).\n",
    "\n",
    "* The lander's $x$-coordinate is greater than 1.\n",
    "\n",
    "You can check out the [Open AI Gym documentation](https://www.gymlibrary.ml/environments/box2d/lunar_lander/) for a full description of the environment. "
   ]
  },
  {
   "cell_type": "markdown",
   "metadata": {},
   "source": [
    "<a name=\"4\"></a>\n",
    "## 4 - Load the Environment\n",
    "\n",
    "We start by loading the `LunarLander-v2` environment from the `gym` library by using the `.make()` method. `LunarLander-v2` is the latest version of the Lunar Lander environment and you can read about its version history in the [Open AI Gym documentation](https://www.gymlibrary.ml/environments/box2d/lunar_lander/#version-history)."
   ]
  },
  {
   "cell_type": "code",
   "execution_count": 4,
   "metadata": {
    "id": "ILVMYKewfR0n"
   },
   "outputs": [],
   "source": [
    "env = gym.make('LunarLander-v2')"
   ]
  },
  {
   "cell_type": "markdown",
   "metadata": {},
   "source": [
    "Once we load the environment we use the `.reset()` method to reset the environment to the initial state. The lander starts at the top center of the environment and we can render the first frame of the environment by using the `.render()` method."
   ]
  },
  {
   "cell_type": "code",
   "execution_count": 5,
   "metadata": {},
   "outputs": [
    {
     "data": {
      "image/png": "[encoded data removed]",
      "text/plain": [
       "<PIL.Image.Image image mode=RGB size=600x400 at 0x7FF9D5842550>"
      ]
     },
     "execution_count": 5,
     "metadata": {},
     "output_type": "execute_result"
    }
   ],
   "source": [
    "env.reset()\n",
    "PIL.Image.fromarray(env.render(mode='rgb_array'))"
   ]
  },
  {
   "cell_type": "markdown",
   "metadata": {},
   "source": [
    "In order to build our neural network later on we need to know the size of the state vector and the number of valid actions. We can get this information from our environment by using the `.observation_space.shape` and `action_space.n` methods, respectively."
   ]
  },
  {
   "cell_type": "code",
   "execution_count": 6,
   "metadata": {
    "id": "x3fdqdG4CUu2"
   },
   "outputs": [
    {
     "name": "stdout",
     "output_type": "stream",
     "text": [
      "State Shape: (8,)\n",
      "Number of actions: 4\n"
     ]
    }
   ],
   "source": [
    "state_size = env.observation_space.shape\n",
    "num_actions = env.action_space.n\n",
    "\n",
    "print('State Shape:', state_size)\n",
    "print('Number of actions:', num_actions)"
   ]
  },
  {
   "cell_type": "markdown",
   "metadata": {},
   "source": [
    "<a name=\"5\"></a>\n",
    "## 5 - Interacting with the Gym Environment\n",
    "\n",
    "The Gym library implements the standard “agent-environment loop” formalism:\n",
    "\n",
    "<br>\n",
    "<center>\n",
    "<video src = \"./videos/rl_formalism.m4v\" width=\"840\" height=\"480\" controls autoplay loop poster=\"./images/rl_formalism.png\"> </video>\n",
    "<figcaption style = \"text-align:center; font-style:italic\">Fig 2. Agent-environment Loop Formalism.</figcaption>\n",
    "</center>\n",
    "<br>\n",
    "\n",
    "In the standard “agent-environment loop” formalism, an agent interacts with the environment in discrete time steps $t=0,1,2,...$. At each time step $t$, the agent uses a policy $\\pi$ to select an action $A_t$ based on its observation of the environment's state $S_t$. The agent receives a numerical reward $R_t$ and on the next time step, moves to a new state $S_{t+1}$.\n",
    "\n",
    "<a name=\"5.1\"></a>\n",
    "### 5.1 Exploring the Environment's Dynamics\n",
    "\n",
    "In Open AI's Gym environments, we use the `.step()` method to run a single time step of the environment's dynamics. In the version of `gym` that we are using the `.step()` method accepts an action and returns four values:\n",
    "\n",
    "* `observation` (**object**): an environment-specific object representing your observation of the environment. In the Lunar Lander environment this corresponds to a numpy array containing the positions and velocities of the lander as described in section [3.2 Observation Space](#3.2).\n",
    "\n",
    "\n",
    "* `reward` (**float**): amount of reward returned as a result of taking the given action. In the Lunar Lander environment this corresponds to a float of type `numpy.float64` as described in section [3.3 Rewards](#3.3).\n",
    "\n",
    "\n",
    "* `done` (**boolean**): When done is `True`, it indicates the episode has terminated and it’s time to reset the environment. \n",
    "\n",
    "\n",
    "* `info` (**dictionary**): diagnostic information useful for debugging. We won't be using this variable in this notebook but it is shown here for completeness.\n",
    "\n",
    "To begin an episode, we need to reset the environment to an initial state. We do this by using the `.reset()` method. "
   ]
  },
  {
   "cell_type": "code",
   "execution_count": 7,
   "metadata": {},
   "outputs": [],
   "source": [
    "# Reset the environment and get the initial state.\n",
    "initial_state = env.reset()"
   ]
  },
  {
   "cell_type": "markdown",
   "metadata": {},
   "source": [
    "Once the environment is reset, the agent can start taking actions in the environment by using the `.step()` method. Note that the agent can only take one action per time step. \n",
    "\n",
    "In the cell below you can select different actions and see how the returned values change depending on the action taken. Remember that in this environment the agent has four discrete actions available and we specify them in code by using their corresponding numerical value:\n",
    "\n",
    "```python\n",
    "Do nothing = 0\n",
    "Fire right engine = 1\n",
    "Fire main engine = 2\n",
    "Fire left engine = 3\n",
    "```"
   ]
  },
  {
   "cell_type": "code",
   "execution_count": 11,
   "metadata": {},
   "outputs": [
    {
     "name": "stdout",
     "output_type": "stream",
     "text": [
      "Initial State: [0.002 1.422 0.194 0.506 -0.002 -0.044 0.000 0.000]\n",
      "Action: 3\n",
      "Next State: [0.010 1.464 0.206 0.443 -0.007 -0.050 0.000 0.000]\n",
      "Reward Received: 0.667698455086595\n",
      "Episode Terminated: False\n",
      "Info: {}\n"
     ]
    }
   ],
   "source": [
    "# Select an action\n",
    "action = 3\n",
    "\n",
    "# Run a single time step of the environment's dynamics with the given action.\n",
    "next_state, reward, done, info = env.step(action)\n",
    "\n",
    "with np.printoptions(formatter={'float': '{:.3f}'.format}):\n",
    "    print(\"Initial State:\", initial_state)\n",
    "    print(\"Action:\", action)\n",
    "    print(\"Next State:\", next_state)\n",
    "    print(\"Reward Received:\", reward)\n",
    "    print(\"Episode Terminated:\", done)\n",
    "    print(\"Info:\", info)"
   ]
  },
  {
   "cell_type": "markdown",
   "metadata": {},
   "source": [
    "In practice, when we train the agent we use a loop to allow the agent to take many consecutive actions during an episode."
   ]
  },
  {
   "cell_type": "markdown",
   "metadata": {},
   "source": [
    "<a name=\"6\"></a>\n",
    "## 6 - Deep Q-Learning\n",
    "\n",
    "In cases where both the state and action space are discrete we can estimate the action-value function iteratively by using the Bellman equation:\n",
    "\n",
    "$$\n",
    "Q_{i+1}(s,a) = R + \\gamma \\max_{a'}Q_i(s',a')\n",
    "$$\n",
    "\n",
    "This iterative method converges to the optimal action-value function $Q^*(s,a)$ as $i\\to\\infty$. This means that the agent just needs to gradually explore the state-action space and keep updating the estimate of $Q(s,a)$ until it converges to the optimal action-value function $Q^*(s,a)$. However, in cases where the state space is continuous it becomes practically impossible to explore the entire state-action space. Consequently, this also makes it practically impossible to gradually estimate $Q(s,a)$ until it converges to $Q^*(s,a)$.\n",
    "\n",
    "In the Deep $Q$-Learning, we solve this problem by using a neural network to estimate the action-value function $Q(s,a)\\approx Q^*(s,a)$. We call this neural network a $Q$-Network and it can be trained by adjusting its weights at each iteration to minimize the mean-squared error in the Bellman equation.\n",
    "\n",
    "Unfortunately, using neural networks in reinforcement learning to estimate action-value functions has proven to be highly unstable. Luckily, there's a couple of techniques that can be employed to avoid instabilities. These techniques consist of using a ***Target Network*** and ***Experience Replay***. We will explore these two techniques in the following sections."
   ]
  },
  {
   "cell_type": "markdown",
   "metadata": {},
   "source": [
    "<a name=\"6.1\"></a>\n",
    "### 6.1 Target Network\n",
    "\n",
    "We can train the $Q$-Network by adjusting it's weights at each iteration to minimize the mean-squared error in the Bellman equation, where the target values are given by:\n",
    "\n",
    "$$\n",
    "y = R + \\gamma \\max_{a'}Q(s',a';w)\n",
    "$$\n",
    "\n",
    "where $w$ are the weights of the $Q$-Network. This means that we are adjusting the weights $w$ at each iteration to minimize the following error:\n",
    "\n",
    "$$\n",
    "\\overbrace{\\underbrace{R + \\gamma \\max_{a'}Q(s',a'; w)}_{\\rm {y~target}} - Q(s,a;w)}^{\\rm {Error}}\n",
    "$$\n",
    "\n",
    "Notice that this forms a problem because the $y$ target is changing on every iteration. Having a constantly moving target can lead to oscillations and instabilities. To avoid this, we can create\n",
    "a separate neural network for generating the $y$ targets. We call this separate neural network the **target $\\hat Q$-Network** and it will have the same architecture as the original $Q$-Network. By using the target $\\hat Q$-Network, the above error becomes:\n",
    "\n",
    "$$\n",
    "\\overbrace{\\underbrace{R + \\gamma \\max_{a'}\\hat{Q}(s',a'; w^-)}_{\\rm {y~target}} - Q(s,a;w)}^{\\rm {Error}}\n",
    "$$\n",
    "\n",
    "where $w^-$ and $w$ are the weights the target $\\hat Q$-Network and $Q$-Network, respectively.\n",
    "\n",
    "In practice, we will use the following algorithm: every $C$ time steps we will use the $\\hat Q$-Network to generate the $y$ targets and update the weights of the target $\\hat Q$-Network using the weights of the $Q$-Network. We will update the weights $w^-$ of the the target $\\hat Q$-Network using a **soft update**. This means that we will update the weights $w^-$ using the following rule:\n",
    " \n",
    "$$\n",
    "w^-\\leftarrow \\tau w + (1 - \\tau) w^-\n",
    "$$\n",
    "\n",
    "where $\\tau\\ll 1$. By using the soft update, we are ensuring that the target values, $y$, change slowly, which greatly improves the stability of our learning algorithm."
   ]
  },
  {
   "cell_type": "markdown",
   "metadata": {},
   "source": [
    "<a name=\"ex01\"></a>\n",
    "### Exercise 1\n",
    "\n",
    "In this exercise you will create the $Q$ and target $\\hat Q$ networks and set the optimizer. Remember that the Deep $Q$-Network (DQN) is a neural network that approximates the action-value function $Q(s,a)\\approx Q^*(s,a)$. It does this by learning how to map states to $Q$ values.\n",
    "\n",
    "To solve the Lunar Lander environment, we are going to employ a DQN with the following architecture:\n",
    "\n",
    "* An `Input` layer that takes `state_size` as input.\n",
    "\n",
    "* A `Dense` layer with `64` units and a `relu` activation function.\n",
    "\n",
    "* A `Dense` layer with `64` units and a `relu` activation function.\n",
    "\n",
    "* A `Dense` layer with `num_actions` units and a `linear` activation function. This will be the output layer of our network.\n",
    "\n",
    "\n",
    "In the cell below you should create the $Q$-Network and the target $\\hat Q$-Network using the model architecture described above. Remember that both the $Q$-Network and the target $\\hat Q$-Network have the same architecture.\n",
    "\n",
    "Lastly, you should set `Adam` as the optimizer with a learning rate equal to `ALPHA`. Recall that `ALPHA` was defined in the [Hyperparameters](#2) section. We should note that for this exercise you should use the already imported packages:\n",
    "```python\n",
    "from tensorflow.keras.layers import Dense, Input\n",
    "from tensorflow.keras.optimizers import Adam\n",
    "```"
   ]
  },
  {
   "cell_type": "code",
   "execution_count": 12,
   "metadata": {},
   "outputs": [],
   "source": [
    "# UNQ_C1\n",
    "# GRADED CELL\n",
    "\n",
    "# Create the Q-Network\n",
    "q_network = Sequential([\n",
    "    ### START CODE HERE ###\n",
    "    Input(state_size),\n",
    "    Dense(64,activation='relu'),\n",
    "    Dense(64,activation='relu'),\n",
    "    Dense(num_actions,activation='linear')\n",
    "    ### END CODE HERE ### \n",
    "    ])\n",
    "\n",
    "# Create the target Q^-Network\n",
    "target_q_network = Sequential([\n",
    "    ### START CODE HERE ### \n",
    "    Input(state_size),\n",
    "    Dense(64,activation='relu'),\n",
    "    Dense(64,activation='relu'),\n",
    "    Dense(num_actions,activation='linear')\n",
    "    ### END CODE HERE ###\n",
    "    ])\n",
    "\n",
    "### START CODE HERE ### \n",
    "optimizer = Adam(ALPHA)\n",
    "### END CODE HERE ###"
   ]
  },
  {
   "cell_type": "code",
   "execution_count": 13,
   "metadata": {},
   "outputs": [
    {
     "name": "stdout",
     "output_type": "stream",
     "text": [
      "\u001b[92mAll tests passed!\n",
      "\u001b[92mAll tests passed!\n",
      "\u001b[92mAll tests passed!\n"
     ]
    }
   ],
   "source": [
    "# UNIT TEST\n",
    "from public_tests import *\n",
    "\n",
    "test_network(q_network)\n",
    "test_network(target_q_network)\n",
    "test_optimizer(optimizer, ALPHA) "
   ]
  },
  {
   "cell_type": "markdown",
   "metadata": {},
   "source": [
    "<details>\n",
    "  <summary><font size=\"3\" color=\"darkgreen\"><b>Click for hints</b></font></summary>\n",
    "    \n",
    "```python\n",
    "# Create the Q-Network\n",
    "q_network = Sequential([\n",
    "    Input(shape=state_size),                      \n",
    "    Dense(units=64, activation='relu'),            \n",
    "    Dense(units=64, activation='relu'),            \n",
    "    Dense(units=num_actions, activation='linear'),\n",
    "    ])\n",
    "\n",
    "# Create the target Q^-Network\n",
    "target_q_network = Sequential([\n",
    "    Input(shape=state_size),                       \n",
    "    Dense(units=64, activation='relu'),            \n",
    "    Dense(units=64, activation='relu'),            \n",
    "    Dense(units=num_actions, activation='linear'), \n",
    "    ])\n",
    "\n",
    "optimizer = Adam(learning_rate=ALPHA)                                  \n",
    "``` "
   ]
  },
  {
   "cell_type": "markdown",
   "metadata": {},
   "source": [
    "<a name=\"6.2\"></a>\n",
    "### 6.2 Experience Replay\n",
    "\n",
    "When an agent interacts with the environment, the states, actions, and rewards the agent experiences are sequential by nature. If the agent tries to learn from these consecutive experiences it can run into problems due to the strong correlations between them. To avoid this, we employ a technique known as **Experience Replay** to generate uncorrelated experiences for training our agent. Experience replay consists of storing the agent's experiences (i.e the states, actions, and rewards the agent receives) in a memory buffer and then sampling a random mini-batch of experiences from the buffer to do the learning. The experience tuples $(S_t, A_t, R_t, S_{t+1})$ will be added to the memory buffer at each time step as the agent interacts with the environment.\n",
    "\n",
    "For convenience, we will store the experiences as named tuples."
   ]
  },
  {
   "cell_type": "code",
   "execution_count": 14,
   "metadata": {},
   "outputs": [],
   "source": [
    "# Store experiences as named tuples\n",
    "experience = namedtuple(\"Experience\", field_names=[\"state\", \"action\", \"reward\", \"next_state\", \"done\"])"
   ]
  },
  {
   "cell_type": "markdown",
   "metadata": {},
   "source": [
    "By using experience replay we avoid problematic correlations, oscillations and instabilities. In addition, experience replay also allows the agent to potentially use the same experience in multiple weight updates, which increases data efficiency."
   ]
  },
  {
   "cell_type": "markdown",
   "metadata": {},
   "source": [
    "<a name=\"7\"></a>\n",
    "## 7 - Deep Q-Learning Algorithm with Experience Replay\n",
    "\n",
    "Now that we know all the techniques that we are going to use, we can put them togther to arrive at the Deep Q-Learning Algorithm With Experience Replay.\n",
    "<br>\n",
    "<br>\n",
    "<figure>\n",
    "  <img src = \"images/deep_q_algorithm.png\" width = 90% style = \"border: thin silver solid; padding: 0px\">\n",
    "      <figcaption style = \"text-align: center; font-style: italic\">Fig 3. Deep Q-Learning with Experience Replay.</figcaption>\n",
    "</figure>"
   ]
  },
  {
   "cell_type": "markdown",
   "metadata": {},
   "source": [
    "<a name=\"ex02\"></a>\n",
    "### Exercise 2\n",
    "\n",
    "In this exercise you will implement line ***12*** of the algorithm outlined in *Fig 3* above and you will also compute the loss between the $y$ targets and the $Q(s,a)$ values. In the cell below, complete the `compute_loss` function by setting the $y$ targets equal to:\n",
    "\n",
    "$$\n",
    "\\begin{equation}\n",
    "    y_j =\n",
    "    \\begin{cases}\n",
    "      R_j & \\text{if episode terminates at step  } j+1\\\\\n",
    "      R_j + \\gamma \\max_{a'}\\hat{Q}(s_{j+1},a') & \\text{otherwise}\\\\\n",
    "    \\end{cases}       \n",
    "\\end{equation}\n",
    "$$\n",
    "\n",
    "Here are a couple of things to note:\n",
    "\n",
    "* The `compute_loss` function takes in a mini-batch of experience tuples. This mini-batch of experience tuples is unpacked to extract the `states`, `actions`, `rewards`, `next_states`, and `done_vals`. You should keep in mind that these variables are *TensorFlow Tensors* whose size will depend on the mini-batch size. For example, if the mini-batch size is `64` then both `rewards` and `done_vals` will be TensorFlow Tensors with `64` elements.\n",
    "\n",
    "\n",
    "* Using `if/else` statements to set the $y$ targets will not work when the variables are tensors with many elements. However, notice that you can use the `done_vals` to implement the above in a single line of code. To do this, recall that the `done` variable is a Boolean variable that takes the value `True` when an episode terminates at step $j+1$ and it is `False` otherwise. Taking into account that a Boolean value of `True` has the numerical value of `1` and a Boolean value of `False` has the numerical value of `0`, you can use the factor `(1 - done_vals)` to implement the above in a single line of code. Here's a hint: notice that `(1 - done_vals)` has a value of `0` when `done_vals` is `True` and a value of `1` when `done_vals` is `False`. \n",
    "\n",
    "Lastly, compute the loss by calculating the Mean-Squared Error (`MSE`) between the `y_targets` and the `q_values`. To calculate the mean-squared error you should use the already imported package `MSE`:\n",
    "```python\n",
    "from tensorflow.keras.losses import MSE\n",
    "```"
   ]
  },
  {
   "cell_type": "code",
   "execution_count": 23,
   "metadata": {},
   "outputs": [],
   "source": [
    "# UNQ_C2\n",
    "# GRADED FUNCTION: calculate_loss\n",
    "\n",
    "def compute_loss(experiences, gamma, q_network, target_q_network):\n",
    "    \"\"\" \n",
    "    Calculates the loss.\n",
    "    \n",
    "    Args:\n",
    "      experiences: (tuple) tuple of [\"state\", \"action\", \"reward\", \"next_state\", \"done\"] namedtuples\n",
    "      gamma: (float) The discount factor.\n",
    "      q_network: (tf.keras.Sequential) Keras model for predicting the q_values\n",
    "      target_q_network: (tf.keras.Sequential) Karas model for predicting the targets\n",
    "          \n",
    "    Returns:\n",
    "      loss: (TensorFlow Tensor(shape=(0,), dtype=int32)) the Mean-Squared Error between\n",
    "            the y targets and the Q(s,a) values.\n",
    "    \"\"\"\n",
    "    \n",
    "    # Unpack the mini-batch of experience tuples\n",
    "    states, actions, rewards, next_states, done_vals = experiences\n",
    "    \n",
    "    # Compute max Q^(s,a)\n",
    "    max_qsa = tf.reduce_max(target_q_network(next_states), axis=-1)\n",
    "    \n",
    "    # Set y = R if episode terminates, otherwise set y = R + γ max Q^(s,a).\n",
    "    ### START CODE HERE ### \n",
    "    y_targets = rewards+(1-done_vals)*gamma*max_qsa\n",
    "    ### END CODE HERE ###\n",
    "    \n",
    "    # Get the q_values\n",
    "    q_values = q_network(states)\n",
    "    q_values = tf.gather_nd(q_values, tf.stack([tf.range(q_values.shape[0]),\n",
    "                                                tf.cast(actions, tf.int32)], axis=1))\n",
    "        \n",
    "    # Compute the loss\n",
    "    ### START CODE HERE ### \n",
    "    loss = MSE(y_targets,q_values) \n",
    "    ### END CODE HERE ### \n",
    "    \n",
    "    return loss"
   ]
  },
  {
   "cell_type": "code",
   "execution_count": 24,
   "metadata": {},
   "outputs": [
    {
     "name": "stdout",
     "output_type": "stream",
     "text": [
      "\u001b[92mAll tests passed!\n"
     ]
    }
   ],
   "source": [
    "# UNIT TEST    \n",
    "test_compute_loss(compute_loss)"
   ]
  },
  {
   "cell_type": "markdown",
   "metadata": {},
   "source": [
    "<details>\n",
    "  <summary><font size=\"3\" color=\"darkgreen\"><b>Click for hints</b></font></summary>\n",
    "    \n",
    "```python\n",
    "def compute_loss(experiences, gamma, q_network, target_q_network):\n",
    "    \"\"\" \n",
    "    Calculates the loss.\n",
    "    \n",
    "    Args:\n",
    "      experiences: (tuple) tuple of [\"state\", \"action\", \"reward\", \"next_state\", \"done\"] namedtuples\n",
    "      gamma: (float) The discount factor.\n",
    "      q_network: (tf.keras.Sequential) Keras model for predicting the q_values\n",
    "      target_q_network: (tf.keras.Sequential) Karas model for predicting the targets\n",
    "          \n",
    "    Returns:\n",
    "      loss: (TensorFlow Tensor(shape=(0,), dtype=int32)) the Mean-Squared Error between\n",
    "            the y targets and the Q(s,a) values.\n",
    "    \"\"\"\n",
    "\n",
    "    \n",
    "    # Unpack the mini-batch of experience tuples\n",
    "    states, actions, rewards, next_states, done_vals = experiences\n",
    "    \n",
    "    # Compute max Q^(s,a)\n",
    "    max_qsa = tf.reduce_max(target_q_network(next_states), axis=-1)\n",
    "    \n",
    "    # Set y = R if episode terminates, otherwise set y = R + γ max Q^(s,a).\n",
    "    y_targets = rewards + (gamma * max_qsa * (1 - done_vals))\n",
    "    \n",
    "    # Get the q_values\n",
    "    q_values = q_network(states)\n",
    "    q_values = tf.gather_nd(q_values, tf.stack([tf.range(q_values.shape[0]),\n",
    "                                                tf.cast(actions, tf.int32)], axis=1))\n",
    "    \n",
    "    # Calculate the loss\n",
    "    loss = MSE(y_targets, q_values)\n",
    "    \n",
    "    return loss\n",
    "\n",
    "``` \n",
    "    "
   ]
  },
  {
   "cell_type": "markdown",
   "metadata": {},
   "source": [
    "<a name=\"8\"></a>\n",
    "## 8 - Update the Network Weights\n",
    "\n",
    "We will use the `agent_learn` function below to implement lines ***12 -14*** of the algorithm outlined in [Fig 3](#7). The `agent_learn` function will update the weights of the $Q$ and target $\\hat Q$ networks using a custom training loop. Because we are using a custom training loop we need to retrieve the gradients via a `tf.GradientTape` instance, and then call `optimizer.apply_gradients()` to update the weights of our $Q$-Network. Note that we are also using the `@tf.function` decorator to increase performance. Without this decorator our training will take twice as long. If you would like to know more about how to increase performance with `@tf.function` take a look at the [TensorFlow documentation](https://www.tensorflow.org/guide/function).\n",
    "\n",
    "The last line of this function updates the weights of the target $\\hat Q$-Network using a [soft update](#6.1). If you want to know how this is implemented in code we encourage you to take a look at the `utils.update_target_network` function in the `utils` module."
   ]
  },
  {
   "cell_type": "code",
   "execution_count": 26,
   "metadata": {},
   "outputs": [],
   "source": [
    "@tf.function\n",
    "def agent_learn(experiences, gamma):\n",
    "    \"\"\"\n",
    "    Updates the weights of the Q networks.\n",
    "    \n",
    "    Args:\n",
    "      experiences: (tuple) tuple of [\"state\", \"action\", \"reward\", \"next_state\", \"done\"] namedtuples\n",
    "      gamma: (float) The discount factor.\n",
    "    \n",
    "    \"\"\"\n",
    "    \n",
    "    # Calculate the loss\n",
    "    with tf.GradientTape() as tape:\n",
    "        loss = compute_loss(experiences, gamma, q_network, target_q_network)\n",
    "\n",
    "    # Get the gradients of the loss with respect to the weights.\n",
    "    gradients = tape.gradient(loss, q_network.trainable_variables)\n",
    "    \n",
    "    # Update the weights of the q_network.\n",
    "    optimizer.apply_gradients(zip(gradients, q_network.trainable_variables))\n",
    "\n",
    "    # update the weights of target q_network\n",
    "    utils.update_target_network(q_network, target_q_network)"
   ]
  },
  {
   "cell_type": "markdown",
   "metadata": {},
   "source": [
    "<a name=\"9\"></a>\n",
    "## 9 - Train the Agent\n",
    "\n",
    "We are now ready to train our agent to solve the Lunar Lander environment. In the cell below we will implement the algorithm in [Fig 3](#7) line by line (please note that we have included the same algorithm below for easy reference. This will prevent you from scrolling up and down the notebook):\n",
    "\n",
    "* **Line 1**: We initialize the `memory_buffer` with a capacity of $N =$ `MEMORY_SIZE`. Notice that we are using a `deque` as the data structure for our `memory_buffer`.\n",
    "\n",
    "\n",
    "* **Line 2**: We skip this line since we already initialized the `q_network` in [Exercise 1](#ex01).\n",
    "\n",
    "\n",
    "* **Line 3**: We initialize the `target_q_network` by setting its weights to be equal to those of the `q_network`.\n",
    "\n",
    "\n",
    "* **Line 4**: We start the outer loop. Notice that we have set $M =$ `num_episodes = 2000`. This number is reasonable because the agent should be able to solve the Lunar Lander environment in less than `2000` episodes using this notebook's default parameters.\n",
    "\n",
    "\n",
    "* **Line 5**: We use the `.reset()` method to reset the environment to the initial state and get the initial state.\n",
    "\n",
    "\n",
    "* **Line 6**: We start the inner loop. Notice that we have set $T =$ `max_num_timesteps = 1000`. This means that the episode will automatically terminate if the episode hasn't terminated after `1000` time steps.\n",
    "\n",
    "\n",
    "* **Line 7**: The agent observes the current `state` and chooses an `action` using an $\\epsilon$-greedy policy. Our agent starts out using a value of $\\epsilon =$ `epsilon = 1` which yields an $\\epsilon$-greedy policy that is equivalent to the equiprobable random policy. This means that at the beginning of our training, the agent is just going to take random actions regardless of the observed `state`. As training progresses we will decrease the value of $\\epsilon$ slowly towards a minimum value using a given $\\epsilon$-decay rate. We want this minimum value to be close to zero because a value of $\\epsilon = 0$ will yield an $\\epsilon$-greedy policy that is equivalent to the greedy policy. This means that towards the end of training, the agent will lean towards selecting the `action` that it believes (based on its past experiences) will maximize $Q(s,a)$. We will set the minimum $\\epsilon$ value to be `0.01` and not exactly 0 because we always want to keep a little bit of exploration during training. If you want to know how this is implemented in code we encourage you to take a look at the `utils.get_action` function in the `utils` module.\n",
    "\n",
    "\n",
    "* **Line 8**: We use the `.step()` method to take the given `action` in the environment and get the `reward` and the `next_state`. \n",
    "\n",
    "\n",
    "* **Line 9**: We store the `experience(state, action, reward, next_state, done)` tuple in our `memory_buffer`. Notice that we also store the `done` variable so that we can keep track of when an episode terminates. This allowed us to set the $y$ targets in [Exercise 2](#ex02).\n",
    "\n",
    "\n",
    "* **Line 10**: We check if the conditions are met to perform a learning update. We do this by using our custom `utils.check_update_conditions` function. This function checks if $C =$ `NUM_STEPS_FOR_UPDATE = 4` time steps have occured and if our `memory_buffer` has enough experience tuples to fill a mini-batch. For example, if the mini-batch size is `64`, then our `memory_buffer` should have at least `64` experience tuples in order to pass the latter condition. If the conditions are met, then the `utils.check_update_conditions` function will return a value of `True`, otherwise it will return a value of `False`.\n",
    "\n",
    "\n",
    "* **Lines 11 - 14**: If the `update` variable is `True` then we perform a learning update. The learning update consists of sampling a random mini-batch of experience tuples from our `memory_buffer`, setting the $y$ targets, performing gradient descent, and updating the weights of the networks. We will use the `agent_learn` function we defined in [Section 8](#8) to perform the latter 3.\n",
    "\n",
    "\n",
    "* **Line 15**: At the end of each iteration of the inner loop we set `next_state` as our new `state` so that the loop can start again from this new state. In addition, we check if the episode has reached a terminal state (i.e we check if `done = True`). If a terminal state has been reached, then we break out of the inner loop.\n",
    "\n",
    "\n",
    "* **Line 16**: At the end of each iteration of the outer loop we update the value of $\\epsilon$, and check if the environment has been solved. We consider that the environment has been solved if the agent receives an average of `200` points in the last `100` episodes. If the environment has not been solved we continue the outer loop and start a new episode.\n",
    "\n",
    "Finally, we wanted to note that we have included some extra variables to keep track of the total number of points the agent received in each episode. This will help us determine if the agent has solved the environment and it will also allow us to see how our agent performed during training. We also use the `time` module to measure how long the training takes. \n",
    "\n",
    "<br>\n",
    "<br>\n",
    "<figure>\n",
    "  <img src = \"images/deep_q_algorithm.png\" width = 90% style = \"border: thin silver solid; padding: 0px\">\n",
    "      <figcaption style = \"text-align: center; font-style: italic\">Fig 4. Deep Q-Learning with Experience Replay.</figcaption>\n",
    "</figure>\n",
    "<br>\n",
    "\n",
    "**Note:** With this notebook's default parameters, the following cell takes between 10 to 15 minutes to run. "
   ]
  },
  {
   "cell_type": "code",
   "execution_count": 27,
   "metadata": {},
   "outputs": [
    {
     "name": "stdout",
     "output_type": "stream",
     "text": [
      "Episode 100 | Total point average of the last 100 episodes: -151.66\n",
      "Episode 200 | Total point average of the last 100 episodes: -103.13\n",
      "Episode 300 | Total point average of the last 100 episodes: -60.036\n",
      "Episode 400 | Total point average of the last 100 episodes: -18.11\n",
      "Episode 500 | Total point average of the last 100 episodes: 98.752\n",
      "Episode 600 | Total point average of the last 100 episodes: 184.74\n",
      "Episode 662 | Total point average of the last 100 episodes: 200.78\n",
      "\n",
      "Environment solved in 662 episodes!\n",
      "\n",
      "Total Runtime: 829.23 s (13.82 min)\n"
     ]
    }
   ],
   "source": [
    "start = time.time()\n",
    "\n",
    "num_episodes = 2000\n",
    "max_num_timesteps = 1000\n",
    "\n",
    "total_point_history = []\n",
    "\n",
    "num_p_av = 100    # number of total points to use for averaging\n",
    "epsilon = 1.0     # initial ε value for ε-greedy policy\n",
    "\n",
    "# Create a memory buffer D with capacity N\n",
    "memory_buffer = deque(maxlen=MEMORY_SIZE)\n",
    "\n",
    "# Set the target network weights equal to the Q-Network weights\n",
    "target_q_network.set_weights(q_network.get_weights())\n",
    "\n",
    "for i in range(num_episodes):\n",
    "    \n",
    "    # Reset the environment to the initial state and get the initial state\n",
    "    state = env.reset()\n",
    "    total_points = 0\n",
    "    \n",
    "    for t in range(max_num_timesteps):\n",
    "        \n",
    "        # From the current state S choose an action A using an ε-greedy policy\n",
    "        state_qn = np.expand_dims(state, axis=0)  # state needs to be the right shape for the q_network\n",
    "        q_values = q_network(state_qn)\n",
    "        action = utils.get_action(q_values, epsilon)\n",
    "        \n",
    "        # Take action A and receive reward R and the next state S'\n",
    "        next_state, reward, done, _ = env.step(action)\n",
    "        \n",
    "        # Store experience tuple (S,A,R,S') in the memory buffer.\n",
    "        # We store the done variable as well for convenience.\n",
    "        memory_buffer.append(experience(state, action, reward, next_state, done))\n",
    "        \n",
    "        # Only update the network every NUM_STEPS_FOR_UPDATE time steps.\n",
    "        update = utils.check_update_conditions(t, NUM_STEPS_FOR_UPDATE, memory_buffer)\n",
    "        \n",
    "        if update:\n",
    "            # Sample random mini-batch of experience tuples (S,A,R,S') from D\n",
    "            experiences = utils.get_experiences(memory_buffer)\n",
    "            \n",
    "            # Set the y targets, perform a gradient descent step,\n",
    "            # and update the network weights.\n",
    "            agent_learn(experiences, GAMMA)\n",
    "        \n",
    "        state = next_state.copy()\n",
    "        total_points += reward\n",
    "        \n",
    "        if done:\n",
    "            break\n",
    "            \n",
    "    total_point_history.append(total_points)\n",
    "    av_latest_points = np.mean(total_point_history[-num_p_av:])\n",
    "    \n",
    "    # Update the ε value\n",
    "    epsilon = utils.get_new_eps(epsilon)\n",
    "\n",
    "    print(f\"\\rEpisode {i+1} | Total point average of the last {num_p_av} episodes: {av_latest_points:.2f}\", end=\"\")\n",
    "\n",
    "    if (i+1) % num_p_av == 0:\n",
    "        print(f\"\\rEpisode {i+1} | Total point average of the last {num_p_av} episodes: {av_latest_points:.2f}\")\n",
    "\n",
    "    # We will consider that the environment is solved if we get an\n",
    "    # average of 200 points in the last 100 episodes.\n",
    "    if av_latest_points >= 200.0:\n",
    "        print(f\"\\n\\nEnvironment solved in {i+1} episodes!\")\n",
    "        q_network.save('lunar_lander_model.h5')\n",
    "        break\n",
    "        \n",
    "tot_time = time.time() - start\n",
    "\n",
    "print(f\"\\nTotal Runtime: {tot_time:.2f} s ({(tot_time/60):.2f} min)\")"
   ]
  },
  {
   "cell_type": "markdown",
   "metadata": {},
   "source": [
    "We can plot the point history to see how our agent improved during training."
   ]
  },
  {
   "cell_type": "code",
   "execution_count": 33,
   "metadata": {
    "id": "E_EUXxurfe8m",
    "scrolled": false
   },
   "outputs": [
    {
     "data": {
      "image/png": "[encoded data removed]",
      "text/plain": [
       "<Figure size 720x504 with 1 Axes>"
      ]
     },
     "metadata": {},
     "output_type": "display_data"
    }
   ],
   "source": [
    "# Plot the point history\n",
    "utils.plot_history(total_point_history)"
   ]
  },
  {
   "cell_type": "markdown",
   "metadata": {
    "id": "c_xwgaX5MnYt"
   },
   "source": [
    "<a name=\"10\"></a>\n",
    "## 10 - See the Trained Agent In Action\n",
    "\n",
    "Now that we have trained our agent, we can see it in action. We will use the `utils.create_video` function to create a video of our agent interacting with the environment using the trained $Q$-Network. The `utils.create_video` function uses the `imageio` library to create the video. This library produces some warnings that can be distracting, so, to suppress these warnings we run the code below."
   ]
  },
  {
   "cell_type": "code",
   "execution_count": 34,
   "metadata": {},
   "outputs": [],
   "source": [
    "# Suppress warnings from imageio\n",
    "import logging\n",
    "logging.getLogger().setLevel(logging.ERROR)"
   ]
  },
  {
   "cell_type": "markdown",
   "metadata": {},
   "source": [
    "In the cell below we create a video of our agent interacting with the Lunar Lander environment using the trained `q_network`. The video is saved to the `videos` folder with the given `filename`. We use the `utils.embed_mp4` function to embed the video in the Jupyter Notebook so that we can see it here directly without having to download it.\n",
    "\n",
    "We should note that since the lunar lander starts with a random initial force applied to its center of mass, every time you run the cell below you will see a different video. If the agent was trained properly, it should be able to land the lunar lander in the landing pad every time, regardless of the initial force applied to its center of mass."
   ]
  },
  {
   "cell_type": "code",
   "execution_count": 31,
   "metadata": {
    "id": "3Ttb_zLeJKiG"
   },
   "outputs": [
    {
     "data": {
      "text/html": [
       "\n",
       "    <video width=\"840\" height=\"480\" controls>\n",
       "    <source src=\"data:video/mp4;base64,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\" type=\"video/mp4\">\n",
       "    Your browser does not support the video tag.\n",
       "    </video>"
      ],
      "text/plain": [
       "<IPython.core.display.HTML object>"
      ]
     },
     "execution_count": 31,
     "metadata": {},
     "output_type": "execute_result"
    }
   ],
   "source": [
    "filename = \"./videos/lunar_lander.mp4\"\n",
    "\n",
    "utils.create_video(filename, env, q_network)\n",
    "utils.embed_mp4(filename)"
   ]
  },
  {
   "cell_type": "markdown",
   "metadata": {},
   "source": [
    "<a name=\"11\"></a>\n",
    "## 11 - Congratulations!\n",
    "\n",
    "You have successfully used Deep Q-Learning with Experience Replay to train an agent to land a lunar lander safely on a landing pad on the surface of the moon. Congratulations!"
   ]
  },
  {
   "cell_type": "markdown",
   "metadata": {},
   "source": [
    "<a name=\"12\"></a>\n",
    "## 12 - References\n",
    "\n",
    "If you would like to learn more about Deep Q-Learning, we recommend you check out the following papers.\n",
    "\n",
    "\n",
    "* [Human-level Control Through Deep Reinforcement Learning](https://storage.googleapis.com/deepmind-media/dqn/DQNNaturePaper.pdf)\n",
    "\n",
    "\n",
    "* [Continuous Control with Deep Reinforcement Learning](https://arxiv.org/pdf/1509.02971.pdf)\n",
    "\n",
    "\n",
    "* [Playing Atari with Deep Reinforcement Learning](https://www.cs.toronto.edu/~vmnih/docs/dqn.pdf)"
   ]
  },
  {
   "cell_type": "code",
   "execution_count": null,
   "metadata": {},
   "outputs": [],
   "source": []
  }
 ],
 "metadata": {
  "accelerator": "GPU",
  "colab": {
   "collapsed_sections": [],
   "name": "TensorFlow - Lunar Lander.ipynb",
   "provenance": []
  },
  "kernelspec": {
   "display_name": "Python 3",
   "language": "python",
   "name": "python3"
  },
  "language_info": {
   "codemirror_mode": {
    "name": "ipython",
    "version": 3
   },
   "file_extension": ".py",
   "mimetype": "text/x-python",
   "name": "python",
   "nbconvert_exporter": "python",
   "pygments_lexer": "ipython3",
   "version": "3.7.6"
  }
 },
 "nbformat": 4,
 "nbformat_minor": 1
}
